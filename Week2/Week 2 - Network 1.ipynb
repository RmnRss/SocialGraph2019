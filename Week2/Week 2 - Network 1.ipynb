{
 "cells": [
  {
   "cell_type": "markdown",
   "metadata": {},
   "source": [
    "# History"
   ]
  },
  {
   "cell_type": "markdown",
   "metadata": {},
   "source": [
    "### Königsberg Problem\n",
    "\n",
    "We cannot have more than 2 nodes with an uneven number of edges for a graph to be walked through once on every edges. This means that the Königsberg Problem is not solvable."
   ]
  },
  {
   "cell_type": "markdown",
   "metadata": {},
   "source": [
    "### Network notation\n",
    "\n",
    "Unweighted network (every link is the same none is stronger than the other)\n",
    "Undirected ( if two nodes are connected they are connected to each other A to B and B to A)\n",
    "\n",
    "#### Edgelist\n",
    "\n",
    "                           ----------\n",
    "                     Node Name - Node Name\n",
    "                            15 - 20\n",
    "                            52 - 63\n",
    "                              ....\n",
    "                              \n",
    "                           ----------\n",
    "                           \n",
    "#### Matrix \n",
    "\n",
    "(1 if connected 0 if not)  \n",
    "\n",
    "                                    C D\n",
    "                                  A 1 0\n",
    "                                  B 0 1"
   ]
  },
  {
   "cell_type": "markdown",
   "metadata": {},
   "source": [
    "## Chapter 1 - Reading \n",
    "\n",
    "   Network                    Node         Links\n",
    "   \n",
    "   Metabolic Network          Molecules    Chemical Reactions\n",
    "   WWW                        Documents    URLs\n",
    "   Facebook                   Persons      Friendship\n",
    "   \n",
    "I'm particularly intersted in : \n",
    "\n",
    "The Nodes are :\n",
    "Its quite large\n",
    "Can it be mapped out ?\n",
    "\n",
    "Because I think its cool\n",
    "\n",
    "Maybe try and apply network science to trafic and commuting ? Because I feel like we still have big issue currently handling human flows and I think that applying Network science to it might help smooth out the traffic and movement of people inside big citie. \n",
    "\n"
   ]
  },
  {
   "cell_type": "markdown",
   "metadata": {},
   "source": [
    "## Chapter 2 - Reading \n",
    "\n",
    "Sparse Networks are networks where L << Lmax where Lmax is the maximum number of links in the graph. That means that a sparse Network is a network in which there are way less link that there could be, so the nodes are more isolated than they could be.\n",
    "\n",
    "So when storing Networks or Matrix we should only store the existing links as they are way less than non exising ones.\n",
    "\n",
    "A network where each nodes has many connection could be like the Network of employees relationship. They should all communicate with each other, but then only a few people actually have a lot of connection (Human Resources for examples) where as others only are communicating inside there section."
   ]
  },
  {
   "cell_type": "markdown",
   "metadata": {},
   "source": [
    "# Part 2: Exercices using NetworkX"
   ]
  },
  {
   "cell_type": "markdown",
   "metadata": {},
   "source": [
    "## Königsberg Problem\n",
    "\n",
    "So for an icon to be drawn without raising the hand we cannot have more than 2 nodes  with an uneven number of edges."
   ]
  },
  {
   "cell_type": "code",
   "execution_count": 90,
   "metadata": {},
   "outputs": [
    {
     "name": "stdout",
     "output_type": "stream",
     "text": [
      "A degrees [(1, 3), (2, 2), (3, 3), (4, 2)]\n",
      "B degrees [(1, 3), (2, 3), (3, 3), (4, 3)]\n",
      "C degrees [(1, 4), (2, 2), (3, 4), (4, 2), (5, 4), (6, 2), (7, 4), (8, 2), (9, 4), (10, 2), (11, 4), (12, 2)]\n",
      "D degrees [(1, 3), (2, 4), (3, 2), (4, 1), (5, 6), (6, 6), (7, 2), (8, 2), (9, 2), (10, 2)]\n"
     ]
    },
    {
     "name": "stderr",
     "output_type": "stream",
     "text": [
      "C:\\ProgramData\\Anaconda3\\lib\\site-packages\\networkx\\drawing\\nx_pylab.py:579: MatplotlibDeprecationWarning: \n",
      "The iterable function was deprecated in Matplotlib 3.1 and will be removed in 3.3. Use np.iterable instead.\n",
      "  if not cb.iterable(width):\n"
     ]
    },
    {
     "data": {
      "image/png": "[encoded data removed]",
      "text/plain": [
       "<Figure size 432x288 with 4 Axes>"
      ]
     },
     "metadata": {},
     "output_type": "display_data"
    }
   ],
   "source": [
    "import networkx as nx\n",
    "import matplotlib.pyplot as plt\n",
    "\n",
    "# Icon A\n",
    "\n",
    "A = nx.Graph()\n",
    "A.add_nodes_from([1,2,3,4])\n",
    "A.add_edges_from([(1,2),(1,3),(1,4),(2,3),(3,4)])\n",
    "print(\"A degrees \" + str(A.degree()))\n",
    "\n",
    "plt.subplot(221)\n",
    "nx.draw(A, with_labels=True)\n",
    "\n",
    "# Icon B\n",
    "\n",
    "B = nx.Graph()\n",
    "B.add_nodes_from(A)\n",
    "B.add_edges_from(A.edges)\n",
    "B.add_edge(4,2)\n",
    "print(\"B degrees \" + str(B.degree()))\n",
    "\n",
    "plt.subplot(222)\n",
    "nx.draw(B, with_labels=True)\n",
    "\n",
    "# Icon C\n",
    "\n",
    "C = nx.Graph()\n",
    "C.add_nodes_from([1,2,3,4,5,6,7,8,9,10,11,12])\n",
    "C.add_edges_from([(1,2),(2,3),(3,4),(4,5),\n",
    "                  (5,6),(6,7),(7,8),(8,9),\n",
    "                  (9,10),(10,11),(11,12),(12,1),\n",
    "                 (1,5),(5,9),(9,1),(11,3),(3,7),(7,11)])\n",
    "print(\"C degrees \" + str(C.degree()))\n",
    "\n",
    "plt.subplot(223)\n",
    "nx.draw(C, with_labels=True)\n",
    "\n",
    "\n",
    "# Icon D\n",
    "\n",
    "D = nx.Graph()\n",
    "D.add_nodes_from([1,2,3,4,5,6,7,8,9,10])\n",
    "D.add_edges_from([(1,2),(2,3),(3,1),(2,4),\n",
    "                  (2,5),(5,6),(6,1),(5,7),\n",
    "                  (5,8),(7,6),(8,6),(5,9),\n",
    "                 (5,10),(6,9),(6,10)])\n",
    "print(\"D degrees \" + str(D.degree()))\n",
    "\n",
    "plt.subplot(224)\n",
    "nx.draw(D, with_labels=True)"
   ]
  },
  {
   "cell_type": "markdown",
   "metadata": {},
   "source": [
    "<b> So only b cannot be drawn without lifting our hand </b>"
   ]
  },
  {
   "cell_type": "markdown",
   "metadata": {},
   "source": [
    "## Graph Representation\n",
    "\n",
    "#### A - Undirected Graph"
   ]
  },
  {
   "cell_type": "code",
   "execution_count": 91,
   "metadata": {},
   "outputs": [
    {
     "name": "stdout",
     "output_type": "stream",
     "text": [
      "A - Adjacency Matrix\n",
      "[[0. 1. 1. 1. 0. 1.]\n",
      " [1. 0. 1. 1. 0. 0.]\n",
      " [1. 1. 0. 0. 0. 1.]\n",
      " [1. 1. 0. 0. 0. 0.]\n",
      " [0. 0. 0. 0. 0. 0.]\n",
      " [1. 0. 1. 0. 0. 0.]]\n",
      "\n",
      "A - List of links\n",
      "[(1, 2), (1, 3), (1, 4), (1, 6), (2, 3), (2, 4), (3, 6)]\n",
      "\n",
      "A - Average Clustering Coefficient\n",
      "0.6388888888888888\n",
      "\n",
      "A - Adjacency Matrix after switch\n",
      "[[0. 1. 1. 1. 0. 1.]\n",
      " [1. 0. 1. 1. 0. 0.]\n",
      " [1. 1. 0. 0. 0. 1.]\n",
      " [1. 1. 0. 0. 0. 0.]\n",
      " [0. 0. 0. 0. 0. 0.]\n",
      " [1. 0. 1. 0. 0. 0.]]\n",
      "\n",
      "A - List of links after switch\n",
      "[(1, 2), (1, 3), (1, 4), (1, 5), (2, 3), (2, 4), (3, 5)]\n",
      "\n",
      "A - Path of length 3 from 1 to 3\n",
      "[1, 2, 3]\n",
      "[1, 3]\n",
      "[1, 4, 2, 3]\n",
      "[1, 6, 3]\n",
      "A - Degree\n",
      "[(1, 4), (2, 3), (3, 3), (4, 2), (5, 0), (6, 2)]\n",
      "\n",
      "A - Clustering Coefficient\n",
      "[(1, 4), (2, 3), (3, 3), (4, 2), (5, 0), (6, 2)]\n",
      "\n",
      "A - Components\n",
      "2\n",
      "\n"
     ]
    }
   ],
   "source": [
    "import networkx as nx\n",
    "import matplotlib.pyplot as plt\n",
    "import numpy as np\n",
    "\n",
    "#### Graph A #####\n",
    "\n",
    "A = nx.Graph()\n",
    "A.add_nodes_from([1,2,3,4,5,6])\n",
    "A.add_edges_from([(1,2),(1,3),(1,4),(1,6),(2,3),(2,4),(6,3)])\n",
    "\n",
    "print(\"A - Adjacency Matrix\")\n",
    "print(nx.to_numpy_matrix(A))\n",
    "\n",
    "print()\n",
    "\n",
    "print(\"A - List of links\")\n",
    "print(list(A.edges))\n",
    "\n",
    "print()\n",
    "\n",
    "print(\"A - Average Clustering Coefficient\")\n",
    "print(nx.average_clustering(A))\n",
    "\n",
    "print()\n",
    "\n",
    "# Relabeling\n",
    "\n",
    "mapping = {5:6,6:5}\n",
    "A = nx.relabel_nodes(A ,mapping, copy=True)\n",
    "\n",
    "print(\"A - Adjacency Matrix after switch\")\n",
    "print(nx.to_numpy_matrix(A))\n",
    "print()\n",
    "\n",
    "print(\"A - List of links after switch\")\n",
    "print(list(A.edges))\n",
    "print()\n",
    "\n",
    "# Relabeling\n",
    "\n",
    "mapping = {6:5,5:6}\n",
    "A = nx.relabel_nodes(A ,mapping, copy=True)\n",
    "\n",
    "print(\"A - Path of length 3 from 1 to 3\")\n",
    "for path in nx.all_simple_paths(A, source=1, target=3, cutoff=3):\n",
    "    print(path)\n",
    "\n",
    "print(\"A - Degree\")\n",
    "print(list(A.degree))\n",
    "print()\n",
    "\n",
    "print(\"A - Clustering Coefficient\")\n",
    "print(list(A.degree))\n",
    "print()\n",
    "\n",
    "print(\"A - Components\")\n",
    "print(nx.number_connected_components(A))\n",
    "print()"
   ]
  },
  {
   "cell_type": "code",
   "execution_count": null,
   "metadata": {},
   "outputs": [],
   "source": [
    "Relabeling only influence the links and not the adjacency matrix"
   ]
  },
  {
   "cell_type": "markdown",
   "metadata": {},
   "source": [
    "#### B - Directed Graph"
   ]
  },
  {
   "cell_type": "code",
   "execution_count": 93,
   "metadata": {},
   "outputs": [
    {
     "name": "stdout",
     "output_type": "stream",
     "text": [
      "B - Adjacency Matrix\n",
      "[[0. 1. 0. 0. 0. 0.]\n",
      " [0. 0. 1. 1. 0. 0.]\n",
      " [1. 1. 0. 0. 0. 0.]\n",
      " [0. 0. 0. 0. 0. 0.]\n",
      " [0. 0. 0. 0. 0. 0.]\n",
      " [1. 0. 1. 0. 0. 0.]]\n",
      "\n",
      "B - List of links\n",
      "[(1, 2), (2, 3), (2, 4), (3, 2), (3, 1), (6, 1), (6, 3)]\n",
      "\n",
      "B - Average Clustering Coefficient\n",
      "0.25\n",
      "\n",
      "B - Adjacency Matrix after switch\n",
      "[[0. 1. 0. 0. 0. 0.]\n",
      " [0. 0. 1. 1. 0. 0.]\n",
      " [1. 1. 0. 0. 0. 0.]\n",
      " [0. 0. 0. 0. 0. 0.]\n",
      " [0. 0. 0. 0. 0. 0.]\n",
      " [1. 0. 1. 0. 0. 0.]]\n",
      "\n",
      "B - List of links after switch\n",
      "[(1, 2), (2, 3), (2, 4), (3, 2), (3, 1), (6, 1), (6, 3)]\n",
      "\n",
      "B - Path of length 3 from 1 to 3\n",
      "[1, 2, 3]\n",
      "\n",
      "B - Degree\n",
      "[(1, 3), (2, 4), (3, 4), (4, 1), (6, 0), (5, 2)]\n",
      "\n",
      "B - Clustering Coefficient\n",
      "[(1, 3), (2, 4), (3, 4), (4, 1), (6, 0), (5, 2)]\n",
      "\n",
      "B - Components\n",
      "4\n",
      "\n"
     ]
    }
   ],
   "source": [
    "import networkx as nx\n",
    "import matplotlib.pyplot as plt\n",
    "import numpy as np\n",
    "\n",
    "B = nx.DiGraph()\n",
    "B.add_nodes_from(A)\n",
    "B.add_edges_from([(6,1),(6,3),(1,2),(2,3),(3,2),(2,4),(3,1)])\n",
    "\n",
    "print(\"B - Adjacency Matrix\")\n",
    "print(nx.to_numpy_matrix(B))\n",
    "\n",
    "print()\n",
    "\n",
    "print(\"B - List of links\")\n",
    "print(list(B.edges))\n",
    "\n",
    "print()\n",
    "\n",
    "print(\"B - Average Clustering Coefficient\")\n",
    "print(nx.average_clustering(B))\n",
    "\n",
    "print()\n",
    "\n",
    "# Relabeling\n",
    "\n",
    "mapping = {5:6,6:5}\n",
    "A = nx.relabel_nodes(B ,mapping, copy=True)\n",
    "\n",
    "print(\"B - Adjacency Matrix after switch\")\n",
    "print(nx.to_numpy_matrix(B))\n",
    "print()\n",
    "\n",
    "print(\"B - List of links after switch\")\n",
    "print(list(B.edges))\n",
    "print()\n",
    "\n",
    "# Relabeling\n",
    "\n",
    "mapping = {6:5,5:6}\n",
    "B = nx.relabel_nodes(B ,mapping, copy=True)\n",
    "\n",
    "print(\"B - Path of length 3 from 1 to 3\")\n",
    "for path in nx.all_simple_paths(B, source=1, target=3, cutoff=3):\n",
    "    print(path)\n",
    "    \n",
    "print()\n",
    "\n",
    "\n",
    "print(\"B - Degree\")\n",
    "print(list(B.degree))\n",
    "print()\n",
    "\n",
    "print(\"B - Clustering Coefficient\")\n",
    "print(list(B.degree))\n",
    "print()\n",
    "\n",
    "print(\"B - Components\")\n",
    "print(nx.number_strongly_connected_components(B))\n",
    "print()"
   ]
  },
  {
   "cell_type": "markdown",
   "metadata": {},
   "source": [
    "#### Other Questions"
   ]
  },
  {
   "cell_type": "markdown",
   "metadata": {},
   "source": [
    "Consider an undirected network of size N in which each node has degree k = 1. Which condition does N have to satisfy? What is the degree distribution of this network? How many components does the network have?"
   ]
  },
  {
   "cell_type": "code",
   "execution_count": null,
   "metadata": {},
   "outputs": [],
   "source": [
    "N = 2\n",
    "Degree Distribution = 1\n",
    "Component = 1"
   ]
  },
  {
   "cell_type": "markdown",
   "metadata": {},
   "source": [
    "Consider now a network in which each node has degree k = 2 and clustering coefficient C = 1. How does the network look like? What condition does N satisfy in this case?"
   ]
  },
  {
   "cell_type": "code",
   "execution_count": null,
   "metadata": {},
   "outputs": [],
   "source": [
    "Like a circle. N>=3"
   ]
  },
  {
   "cell_type": "markdown",
   "metadata": {},
   "source": [
    "## Bipartite Networks"
   ]
  },
  {
   "cell_type": "markdown",
   "metadata": {},
   "source": []
  },
  {
   "cell_type": "code",
   "execution_count": 94,
   "metadata": {},
   "outputs": [
    {
     "name": "stdout",
     "output_type": "stream",
     "text": [
      "Adjacency Matrix\n",
      "[[0. 0. 0. 0. 0. 0. 1. 0. 0. 0. 0.]\n",
      " [0. 0. 0. 0. 0. 0. 0. 0. 1. 0. 0.]\n",
      " [0. 0. 0. 0. 0. 0. 1. 1. 1. 0. 0.]\n",
      " [0. 0. 0. 0. 0. 0. 0. 0. 1. 1. 0.]\n",
      " [0. 0. 0. 0. 0. 0. 0. 0. 1. 0. 1.]\n",
      " [0. 0. 0. 0. 0. 0. 0. 0. 0. 0. 1.]\n",
      " [1. 0. 1. 0. 0. 0. 0. 0. 0. 0. 0.]\n",
      " [0. 0. 1. 0. 0. 0. 0. 0. 0. 0. 0.]\n",
      " [0. 1. 1. 1. 1. 0. 0. 0. 0. 0. 0.]\n",
      " [0. 0. 0. 1. 0. 0. 0. 0. 0. 0. 0.]\n",
      " [0. 0. 0. 0. 1. 1. 0. 0. 0. 0. 0.]]\n",
      "\n",
      "Purple Adjacency Matrix\n",
      "[[0. 0. 1. 0. 0. 0.]\n",
      " [0. 0. 1. 1. 1. 0.]\n",
      " [1. 1. 0. 1. 1. 0.]\n",
      " [0. 1. 1. 0. 1. 0.]\n",
      " [0. 1. 1. 1. 0. 1.]\n",
      " [0. 0. 0. 0. 1. 0.]]\n",
      "\n",
      "Green Adjacency Matrix\n",
      "[[0. 1. 1. 0. 0.]\n",
      " [1. 0. 1. 0. 0.]\n",
      " [1. 1. 0. 1. 1.]\n",
      " [0. 0. 1. 0. 0.]\n",
      " [0. 0. 1. 0. 0.]]\n",
      "\n",
      "Nodes Degree\n",
      "(DegreeView({7: 2, 8: 1, 9: 4, 10: 1, 11: 2}), DegreeView({1: 1, 2: 1, 3: 3, 4: 2, 5: 2, 6: 1}))\n",
      "\n",
      "Purple Graph Average Degree\n",
      "{1: 4.0, 3: 3.6666666666666665, 4: 2.75}\n",
      "\n",
      "Green Graph Average Degree\n",
      "{2: 3.0, 4: 1.5, 1: 4.0}\n",
      "\n"
     ]
    },
    {
     "data": {
      "image/png": "[encoded data removed]",
      "text/plain": [
       "<Figure size 432x288 with 1 Axes>"
      ]
     },
     "metadata": {},
     "output_type": "display_data"
    }
   ],
   "source": [
    "import networkx as nx\n",
    "from networkx.algorithms import bipartite\n",
    "import matplotlib.pyplot as plt\n",
    "\n",
    "C = nx.Graph()\n",
    "\n",
    "C.add_nodes_from([1, 2, 3, 4, 5, 6], bipartite=0)\n",
    "C.add_nodes_from([7, 8, 9, 10, 11], bipartite=1)\n",
    "\n",
    "C.add_edges_from([(1, 7), \n",
    "                  (2, 9), \n",
    "                  (3, 7), (3, 8), (3, 9), \n",
    "                  (4, 9), (4, 10), \n",
    "                  (5, 9), (5,11), \n",
    "                  (6,11)])\n",
    "\n",
    "purple_nodes = {n for n, d in C.nodes(data=True) if d['bipartite']==0}\n",
    "green_nodes = set(C) - purple_nodes\n",
    "\n",
    "plt.subplot()\n",
    "nx.draw(C, pos = nx.bipartite_layout(C, purple_nodes), with_labels=True)\n",
    "\n",
    "print(\"Adjacency Matrix\")\n",
    "print(nx.to_numpy_matrix(C))\n",
    "print()\n",
    "\n",
    "print(\"Purple Adjacency Matrix\")\n",
    "purple_graph = bipartite.projected_graph(C, purple_nodes)\n",
    "print(nx.to_numpy_matrix(purple_graph))\n",
    "print()\n",
    "\n",
    "print(\"Green Adjacency Matrix\")\n",
    "green_graph = bipartite.projected_graph(C, green_nodes)\n",
    "print(nx.to_numpy_matrix(green_graph))\n",
    "print()\n",
    "\n",
    "print(\"Nodes Degree\")\n",
    "print(bipartite.degrees(C, purple_nodes))\n",
    "print()\n",
    "\n",
    "print(\"Purple Graph Average Degree\")\n",
    "print(nx.average_degree_connectivity(purple_graph))\n",
    "print()\n",
    "\n",
    "\n",
    "print(\"Green Graph Average Degree\")\n",
    "print(nx.average_degree_connectivity(green_graph))\n",
    "print()\n",
    "\n",
    "\n",
    "\n"
   ]
  },
  {
   "cell_type": "code",
   "execution_count": null,
   "metadata": {},
   "outputs": [],
   "source": []
  },
  {
   "cell_type": "code",
   "execution_count": null,
   "metadata": {},
   "outputs": [],
   "source": []
  },
  {
   "cell_type": "markdown",
   "metadata": {},
   "source": [
    "<i> Why is it a block-diagonal matrix? </i>\n",
    "\n",
    "Because it has to represent the links from both side. So we use a block diagonal matrix to represent each "
   ]
  },
  {
   "cell_type": "markdown",
   "metadata": {},
   "source": [
    "<i> Consider a bipartite network with N1 and N2 nodes in the two sets.\n",
    "\n",
    "What is the maximum number of links Lmax the network can have? </i>"
   ]
  },
  {
   "cell_type": "markdown",
   "metadata": {},
   "source": [
    "Lmax is N1*N2"
   ]
  },
  {
   "cell_type": "markdown",
   "metadata": {},
   "source": [
    "<i> How many links cannot occur compared to a non-bipartite network of size N = N1 + N2 ? </i>"
   ]
  },
  {
   "cell_type": "code",
   "execution_count": null,
   "metadata": {},
   "outputs": [],
   "source": [
    "Every link bewtween the N1 nodes plus every link between the N2 nodes"
   ]
  },
  {
   "cell_type": "markdown",
   "metadata": {},
   "source": [
    "If N1‹‹N2 , what can you say about the network density, that is the total number of links over the maximum number of links, Lmax?"
   ]
  },
  {
   "cell_type": "code",
   "execution_count": null,
   "metadata": {},
   "outputs": [],
   "source": []
  },
  {
   "cell_type": "code",
   "execution_count": null,
   "metadata": {},
   "outputs": [],
   "source": [
    "Find an expression connecting N1, N2 and the average degree for the two sets in the bipartite network, 〈k1〉 and 〈k2〉."
   ]
  },
  {
   "cell_type": "code",
   "execution_count": null,
   "metadata": {},
   "outputs": [],
   "source": []
  },
  {
   "cell_type": "markdown",
   "metadata": {},
   "source": [
    "## Degree distributions"
   ]
  },
  {
   "cell_type": "code",
   "execution_count": 3,
   "metadata": {},
   "outputs": [
    {
     "data": {
      "text/plain": [
       "[<matplotlib.lines.Line2D at 0x165041f02e8>]"
      ]
     },
     "execution_count": 3,
     "metadata": {},
     "output_type": "execute_result"
    },
    {
     "data": {
      "image/png": "[encoded data removed]",
      "text/plain": [
       "<Figure size 432x288 with 1 Axes>"
      ]
     },
     "metadata": {
      "needs_background": "light"
     },
     "output_type": "display_data"
    }
   ],
   "source": [
    "import networkx as nx\n",
    "import matplotlib.pyplot as plt\n",
    "import numpy as np\n",
    "\n",
    "# Random data\n",
    "data = np.random.normal(2, 0.125, 5000)\n",
    "\n",
    "# returns tuples but the arrays are different sizes\n",
    "data_binned = np.histogram(data, bins=10)\n",
    "\n",
    "# Reducing the arrays to the same size\n",
    "x_data = []\n",
    "y_data = []\n",
    "\n",
    "for x in range(0,10):\n",
    "    x_data.append(data_binned[0][x])\n",
    "    y_data.append(data_binned[1][x])\n",
    "    \n",
    "# Plotting\n",
    "plt.plot(y_data, x_data)"
   ]
  },
  {
   "cell_type": "code",
   "execution_count": 4,
   "metadata": {},
   "outputs": [
    {
     "name": "stdout",
     "output_type": "stream",
     "text": [
      "Max Value 22\n",
      "Min Value 1\n"
     ]
    },
    {
     "ename": "IndexError",
     "evalue": "index 20 is out of bounds for axis 0 with size 20",
     "output_type": "error",
     "traceback": [
      "\u001b[1;31m---------------------------------------------------------------------------\u001b[0m",
      "\u001b[1;31mIndexError\u001b[0m                                Traceback (most recent call last)",
      "\u001b[1;32m<ipython-input-4-93e209c7e60e>\u001b[0m in \u001b[0;36m<module>\u001b[1;34m\u001b[0m\n\u001b[0;32m     23\u001b[0m \u001b[1;32mfor\u001b[0m \u001b[0mx\u001b[0m \u001b[1;32min\u001b[0m \u001b[0mrange\u001b[0m\u001b[1;33m(\u001b[0m\u001b[1;36m0\u001b[0m\u001b[1;33m,\u001b[0m\u001b[0mlmax\u001b[0m\u001b[1;33m-\u001b[0m\u001b[1;36m1\u001b[0m\u001b[1;33m)\u001b[0m\u001b[1;33m:\u001b[0m\u001b[1;33m\u001b[0m\u001b[1;33m\u001b[0m\u001b[0m\n\u001b[0;32m     24\u001b[0m     \u001b[0mindex\u001b[0m\u001b[1;33m.\u001b[0m\u001b[0mappend\u001b[0m\u001b[1;33m(\u001b[0m\u001b[0mdata_binned\u001b[0m\u001b[1;33m[\u001b[0m\u001b[1;36m1\u001b[0m\u001b[1;33m]\u001b[0m\u001b[1;33m[\u001b[0m\u001b[0mx\u001b[0m\u001b[1;33m]\u001b[0m\u001b[1;33m)\u001b[0m\u001b[1;33m\u001b[0m\u001b[1;33m\u001b[0m\u001b[0m\n\u001b[1;32m---> 25\u001b[1;33m     \u001b[0mheight\u001b[0m\u001b[1;33m.\u001b[0m\u001b[0mappend\u001b[0m\u001b[1;33m(\u001b[0m\u001b[0mdata_binned\u001b[0m\u001b[1;33m[\u001b[0m\u001b[1;36m0\u001b[0m\u001b[1;33m]\u001b[0m\u001b[1;33m[\u001b[0m\u001b[0mx\u001b[0m\u001b[1;33m]\u001b[0m\u001b[1;33m)\u001b[0m\u001b[1;33m\u001b[0m\u001b[1;33m\u001b[0m\u001b[0m\n\u001b[0m\u001b[0;32m     26\u001b[0m \u001b[1;33m\u001b[0m\u001b[0m\n\u001b[0;32m     27\u001b[0m \u001b[1;31m# Plot\u001b[0m\u001b[1;33m\u001b[0m\u001b[1;33m\u001b[0m\u001b[1;33m\u001b[0m\u001b[0m\n",
      "\u001b[1;31mIndexError\u001b[0m: index 20 is out of bounds for axis 0 with size 20"
     ]
    }
   ],
   "source": [
    "# Generating data\n",
    "data_poisson = np.random.poisson(10, 5000)\n",
    "\n",
    "# Finding extremums\n",
    "lmax = np.amax(data_poisson)\n",
    "lmin = np.amin(data_poisson)\n",
    "\n",
    "print(\"Max Value \" + str(lmax))\n",
    "print(\"Min Value \" + str(lmin))\n",
    "\n",
    "# Sort data\n",
    "data_poisson.sort()\n",
    "\n",
    "# Create a vector v each case contains a number\n",
    "\n",
    "vector = range(lmin, lmax)\n",
    "data_binned = np.histogram(data_poisson, bins=vector)\n",
    "\n",
    "# Reducing the arrays to the same size\n",
    "index = []\n",
    "height = []\n",
    "\n",
    "for x in range(0,lmax-1):\n",
    "    index.append(data_binned[1][x])\n",
    "    height.append(data_binned[0][x])\n",
    "\n",
    "# Plot\n",
    "plt.bar(index, height)\n",
    "plt.title(\"Degree Histogram\")\n",
    "plt.ylabel(\"Count\")\n",
    "plt.xlabel(\"Degree\")"
   ]
  },
  {
   "cell_type": "markdown",
   "metadata": {},
   "source": [
    "<b> What is the sum over bin counts? Explain how the binning-vectors first and last element relates to the min and max from the Poisson distribution. </b>"
   ]
  },
  {
   "cell_type": "code",
   "execution_count": null,
   "metadata": {},
   "outputs": [],
   "source": []
  },
  {
   "cell_type": "code",
   "execution_count": 6,
   "metadata": {},
   "outputs": [
    {
     "data": {
      "text/plain": [
       "Text(0.5, 0, 'Degree')"
      ]
     },
     "execution_count": 6,
     "metadata": {},
     "output_type": "execute_result"
    },
    {
     "data": {
      "image/png": "[encoded data removed]",
      "text/plain": [
       "<Figure size 432x288 with 1 Axes>"
      ]
     },
     "metadata": {
      "needs_background": "light"
     },
     "output_type": "display_data"
    }
   ],
   "source": [
    "import matplotlib.pyplot as plt\n",
    "from networkx import nx\n",
    "\n",
    "# Average degree k = 10\n",
    "# p = <k>/(N-1)\n",
    "\n",
    "n = 50\n",
    "p = 10/49\n",
    "\n",
    "# Generating graph\n",
    "G = nx.erdos_renyi_graph(n, p)\n",
    "degree = G.degree()\n",
    "\n",
    "# Finding extremums\n",
    "lmax = np.amax(degree)\n",
    "lmin = np.amin(degree)\n",
    "\n",
    "vector = range(lmin, lmax)\n",
    "data_binned = np.histogram(degree, bins=vector)\n",
    "\n",
    "# Reducing the arrays to the same size\n",
    "index = []\n",
    "height = []\n",
    "\n",
    "for x in range(0,lmax-1):\n",
    "    index.append(data_binned[1][x])\n",
    "    height.append(data_binned[0][x])\n",
    "\n",
    "# Plot\n",
    "plt.bar(index, height)\n",
    "plt.title(\"Degree Histogram\")\n",
    "plt.ylabel(\"Count\")\n",
    "plt.xlabel(\"Degree\")\n",
    "\n",
    "# nx.draw(G, node_size=10)"
   ]
  },
  {
   "cell_type": "markdown",
   "metadata": {},
   "source": [
    "## Random Networks"
   ]
  },
  {
   "cell_type": "markdown",
   "metadata": {},
   "source": [
    "### E-R Networks"
   ]
  },
  {
   "cell_type": "markdown",
   "metadata": {},
   "source": [
    "Exercice 3.1"
   ]
  },
  {
   "cell_type": "code",
   "execution_count": 82,
   "metadata": {},
   "outputs": [
    {
     "name": "stdout",
     "output_type": "stream",
     "text": [
      "4526\n",
      "0.00033344448149383126\n",
      "4024.516129032258\n"
     ]
    }
   ],
   "source": [
    "n = 3000\n",
    "p = 0.001\n",
    "\n",
    "# Generating graph\n",
    "G = nx.erdos_renyi_graph(n, p)\n",
    "\n",
    "# What is the expected number of links, 〈L〉?\n",
    "print(G.number_of_edges())\n",
    "\n",
    "# In which regime is the network?\n",
    "avg_deg = nx.average_degree_connectivity(G)\n",
    "\n",
    "# Avergage degree > 1 then its a supercritical regime\n",
    "\n",
    "# Calculate the probability pc so that the network is at the critical point\n",
    "# Meaning for which value of pc is <k> = 1\n",
    "# With <k> = p(N-1)\n",
    "pc = 1/(n-1)\n",
    "print(pc)\n",
    "\n",
    "# Number of nodes Ncr so that the network has only one component.\n",
    "# One component meaning that every node is linked\n",
    "# p = <k>/N then N = <k>/p\n",
    "\n",
    "Ncr = avg_deg[5]/p\n",
    "print(Ncr)\n",
    "\n",
    "# Network in (d), average degree 〈kcr〉 and the average distance between two randomly chosen nodes 〈d〉.\n",
    "aNode = random.choice(list(G.nodes()))\n",
    "otherNode = random.choice(list(G.nodes()))"
   ]
  },
  {
   "cell_type": "markdown",
   "metadata": {},
   "source": [
    "#### Calculate the degree distribution pk of this network."
   ]
  },
  {
   "cell_type": "code",
   "execution_count": 86,
   "metadata": {},
   "outputs": [
    {
     "data": {
      "text/plain": [
       "Text(0.5, 0, 'Degree')"
      ]
     },
     "execution_count": 86,
     "metadata": {},
     "output_type": "execute_result"
    },
    {
     "data": {
      "image/png": "[encoded data removed]",
      "text/plain": [
       "<Figure size 432x288 with 1 Axes>"
      ]
     },
     "metadata": {
      "needs_background": "light"
     },
     "output_type": "display_data"
    }
   ],
   "source": [
    "degree = G.degree()\n",
    "\n",
    "# Finding extremums\n",
    "lmax = np.amax(degree)\n",
    "lmin = np.amin(degree)\n",
    "\n",
    "vector = range(lmin, lmax)\n",
    "data_binned = np.histogram(degree, bins=vector)\n",
    "\n",
    "# Reducing the arrays to the same size\n",
    "index = []\n",
    "height = []\n",
    "\n",
    "for x in range(1,lmax-1):\n",
    "    index.append(data_binned[1][x])\n",
    "    height.append(data_binned[0][x])\n",
    "\n",
    "# Plot\n",
    "plt.bar(index, height)\n",
    "plt.title(\"Degree Histogram\")\n",
    "plt.ylabel(\"Count\")\n",
    "plt.xlabel(\"Degree\")"
   ]
  }
 ],
 "metadata": {
  "kernelspec": {
   "display_name": "Python 3",
   "language": "python",
   "name": "python3"
  },
  "language_info": {
   "codemirror_mode": {
    "name": "ipython",
    "version": 3
   },
   "file_extension": ".py",
   "mimetype": "text/x-python",
   "name": "python",
   "nbconvert_exporter": "python",
   "pygments_lexer": "ipython3",
   "version": "3.7.3"
  }
 },
 "nbformat": 4,
 "nbformat_minor": 2
}
