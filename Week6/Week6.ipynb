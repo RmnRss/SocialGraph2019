{
 "cells": [
  {
   "cell_type": "markdown",
   "metadata": {},
   "source": [
    "# NLPP\n",
    "---"
   ]
  },
  {
   "cell_type": "code",
   "execution_count": 1,
   "metadata": {},
   "outputs": [],
   "source": [
    "import nltk\n",
    "import string\n",
    "from matplotlib import pyplot as plt"
   ]
  },
  {
   "cell_type": "code",
   "execution_count": 3,
   "metadata": {},
   "outputs": [
    {
     "name": "stdout",
     "output_type": "stream",
     "text": [
      "*** Introductory Examples for the NLTK Book ***\n",
      "Loading text1, ..., text9 and sent1, ..., sent9\n",
      "Type the name of the text or sentence to view it.\n",
      "Type: 'texts()' or 'sents()' to list the materials.\n",
      "text1: Moby Dick by Herman Melville 1851\n",
      "text2: Sense and Sensibility by Jane Austen 1811\n",
      "text3: The Book of Genesis\n",
      "text4: Inaugural Address Corpus\n",
      "text5: Chat Corpus\n",
      "text6: Monty Python and the Holy Grail\n",
      "text7: Wall Street Journal\n",
      "text8: Personals Corpus\n",
      "text9: The Man Who Was Thursday by G . K . Chesterton 1908\n"
     ]
    }
   ],
   "source": [
    "from nltk.book import *"
   ]
  },
  {
   "cell_type": "code",
   "execution_count": 4,
   "metadata": {
    "scrolled": true
   },
   "outputs": [
    {
     "name": "stdout",
     "output_type": "stream",
     "text": [
      "showing info https://raw.githubusercontent.com/nltk/nltk_data/gh-pages/index.xml\n"
     ]
    },
    {
     "data": {
      "text/plain": [
       "True"
      ]
     },
     "execution_count": 4,
     "metadata": {},
     "output_type": "execute_result"
    }
   ],
   "source": [
    "nltk.download()"
   ]
  },
  {
   "cell_type": "markdown",
   "metadata": {},
   "source": [
    "# Exercice Chapter 1\n",
    "---"
   ]
  },
  {
   "cell_type": "markdown",
   "metadata": {},
   "source": [
    "<i> Try out the concordance method, using another text and a word of your own choosing. </i>"
   ]
  },
  {
   "cell_type": "code",
   "execution_count": 4,
   "metadata": {},
   "outputs": [
    {
     "name": "stdout",
     "output_type": "stream",
     "text": [
      "Displaying 6 of 6 matches:\n",
      " : You ' ve got two empty halves of coconut and you ' re bangin ' ' em together\n",
      " # 1 : Found them ? In Mercea ? The coconut ' s tropical ! ARTHUR : What do you\n",
      "R # 1 : What ? A swallow carrying a coconut ? ARTHUR : It could grip it by the \n",
      "ce bird could not carry a one pound coconut . ARTHUR : Well , it doesn ' t matt\n",
      "ER # 1 : So they couldn ' t bring a coconut back anyway ... [ clop clop clop ] \n",
      "ay -- four , really , if they had a coconut on a line between them . I mean , i\n"
     ]
    }
   ],
   "source": [
    "text6.concordance(\"coconut\")"
   ]
  },
  {
   "cell_type": "markdown",
   "metadata": {},
   "source": [
    "<i> Also try out the similar and common_context methods for a few of your own examples. </i>"
   ]
  },
  {
   "cell_type": "markdown",
   "metadata": {},
   "source": [
    "+ What other words appear in a similar range of contexts as \"horse\" ?"
   ]
  },
  {
   "cell_type": "code",
   "execution_count": 5,
   "metadata": {
    "scrolled": false
   },
   "outputs": [
    {
     "name": "stdout",
     "output_type": "stream",
     "text": [
      "lord what coconut scratch draw model grail sniff sacrifice test\n",
      "mistake\n"
     ]
    }
   ],
   "source": [
    "text6.similar(\"horse\")"
   ]
  },
  {
   "cell_type": "code",
   "execution_count": 6,
   "metadata": {},
   "outputs": [
    {
     "name": "stdout",
     "output_type": "stream",
     "text": [
      "lord britons land what horse coconut fight scratch draw same centuries\n",
      "model thing sniff chaste enchanter spanking words sacrifice\n",
      "shrubberies\n"
     ]
    }
   ],
   "source": [
    "text6.similar(\"grail\")"
   ]
  },
  {
   "cell_type": "markdown",
   "metadata": {},
   "source": [
    "+ The term common_contexts allows us to examine just the contexts that are shared by two or more words"
   ]
  },
  {
   "cell_type": "code",
   "execution_count": 7,
   "metadata": {},
   "outputs": [
    {
     "name": "stdout",
     "output_type": "stream",
     "text": [
      "a_arthur\n"
     ]
    }
   ],
   "source": [
    "text6.common_contexts([\"sacrifice\", \"coconut\"])"
   ]
  },
  {
   "cell_type": "markdown",
   "metadata": {},
   "source": [
    "<i> Create your own version of a dispersion plot (\"your own version\" means another text and different word). </i>"
   ]
  },
  {
   "cell_type": "code",
   "execution_count": 8,
   "metadata": {},
   "outputs": [
    {
     "data": {
      "image/png": "[encoded data removed]",
      "text/plain": [
       "<Figure size 432x288 with 1 Axes>"
      ]
     },
     "metadata": {
      "needs_background": "light"
     },
     "output_type": "display_data"
    }
   ],
   "source": [
    "text6.dispersion_plot([\"Arthur\", \"holy\", \"grail\", \"land\", \"fight\", \"coconut\"])"
   ]
  },
  {
   "cell_type": "markdown",
   "metadata": {},
   "source": [
    "<i> Explain in your own words what aspect of language lexical diversity describes. </i>"
   ]
  },
  {
   "cell_type": "markdown",
   "metadata": {},
   "source": [
    "+ <b> To me lexical diversity is how many ways we have to describe one thing, and how diverse it can be. So it could be something like the number of different word we have in a text or the number of different word that will describe or mean the same thing. </b>"
   ]
  },
  {
   "cell_type": "markdown",
   "metadata": {},
   "source": [
    "<i> Create frequency distributions for text2, including the cumulative frequency plot for the 75 most common words. </i>"
   ]
  },
  {
   "cell_type": "code",
   "execution_count": 29,
   "metadata": {},
   "outputs": [],
   "source": [
    "fdist1 = FreqDist(text6)"
   ]
  },
  {
   "cell_type": "code",
   "execution_count": 30,
   "metadata": {},
   "outputs": [
    {
     "name": "stdout",
     "output_type": "stream",
     "text": [
      "<FreqDist with 2166 samples and 16967 outcomes>\n"
     ]
    }
   ],
   "source": [
    "print(fdist1)"
   ]
  },
  {
   "cell_type": "code",
   "execution_count": 31,
   "metadata": {
    "scrolled": true
   },
   "outputs": [
    {
     "data": {
      "text/plain": [
       "[(':', 1197),\n",
       " ('.', 816),\n",
       " ('!', 801),\n",
       " (',', 731),\n",
       " (\"'\", 421),\n",
       " ('[', 319),\n",
       " (']', 312),\n",
       " ('the', 299),\n",
       " ('I', 255),\n",
       " ('ARTHUR', 225),\n",
       " ('?', 207),\n",
       " ('you', 204),\n",
       " ('a', 188),\n",
       " ('of', 158),\n",
       " ('--', 148),\n",
       " ('to', 144),\n",
       " ('s', 141),\n",
       " ('and', 135),\n",
       " ('#', 127),\n",
       " ('...', 118),\n",
       " ('Oh', 110),\n",
       " ('it', 107),\n",
       " ('is', 106),\n",
       " ('-', 88),\n",
       " ('in', 86),\n",
       " ('that', 84),\n",
       " ('t', 77),\n",
       " ('1', 76),\n",
       " ('No', 76),\n",
       " ('LAUNCELOT', 76),\n",
       " ('your', 75),\n",
       " ('not', 70),\n",
       " ('GALAHAD', 69),\n",
       " ('KNIGHT', 68),\n",
       " ('What', 65),\n",
       " ('FATHER', 63),\n",
       " ('we', 62),\n",
       " ('You', 61),\n",
       " ('BEDEVERE', 61),\n",
       " ('We', 60),\n",
       " ('this', 59),\n",
       " ('no', 55),\n",
       " ('Well', 54),\n",
       " ('HEAD', 54),\n",
       " ('have', 53),\n",
       " ('GUARD', 53),\n",
       " ('are', 52),\n",
       " ('Sir', 52),\n",
       " ('A', 50),\n",
       " ('And', 50),\n",
       " ('on', 47),\n",
       " ('VILLAGER', 47),\n",
       " ('Ni', 47),\n",
       " ('me', 46),\n",
       " ('He', 46),\n",
       " ('boom', 45),\n",
       " ('be', 43),\n",
       " ('he', 43),\n",
       " ('Yes', 42),\n",
       " ('2', 42),\n",
       " ('ha', 42),\n",
       " ('re', 41),\n",
       " ('her', 40),\n",
       " ('clop', 39),\n",
       " ('ROBIN', 39),\n",
       " ('my', 38),\n",
       " ('with', 38),\n",
       " ('away', 38),\n",
       " ('witch', 37),\n",
       " ('KNIGHTS', 37),\n",
       " ('Arthur', 36),\n",
       " ('up', 36),\n",
       " ('It', 35),\n",
       " ('do', 34),\n",
       " ('here', 34)]"
      ]
     },
     "execution_count": 31,
     "metadata": {},
     "output_type": "execute_result"
    }
   ],
   "source": [
    "fdist1.most_common(75)"
   ]
  },
  {
   "cell_type": "code",
   "execution_count": 32,
   "metadata": {},
   "outputs": [
    {
     "data": {
      "image/png": "[encoded data removed]",
      "text/plain": [
       "<Figure size 432x288 with 1 Axes>"
      ]
     },
     "metadata": {
      "needs_background": "light"
     },
     "output_type": "display_data"
    },
    {
     "data": {
      "text/plain": [
       "<matplotlib.axes._subplots.AxesSubplot at 0x1ebea02b2b0>"
      ]
     },
     "execution_count": 32,
     "metadata": {},
     "output_type": "execute_result"
    }
   ],
   "source": [
    "fdist1.plot(75, cumulative=True)"
   ]
  },
  {
   "cell_type": "code",
   "execution_count": 9,
   "metadata": {},
   "outputs": [],
   "source": [
    "# Get rid of punctuation\n",
    "invalidChars = set(string.punctuation)\n",
    "\n",
    "for word in words:\n",
    "    if not any(char in invalidChars for char in word):\n",
    "        a_dict[word] = text2.count(word)        "
   ]
  },
  {
   "cell_type": "code",
   "execution_count": 10,
   "metadata": {},
   "outputs": [],
   "source": [
    "sorted_words = sorted(a_dict.items(), key=lambda kv: kv[1], reverse=True)"
   ]
  },
  {
   "cell_type": "code",
   "execution_count": 28,
   "metadata": {},
   "outputs": [
    {
     "data": {
      "text/plain": [
       "2134"
      ]
     },
     "execution_count": 28,
     "metadata": {},
     "output_type": "execute_result"
    }
   ],
   "source": [
    "len(sorted_words)"
   ]
  },
  {
   "cell_type": "code",
   "execution_count": 22,
   "metadata": {},
   "outputs": [
    {
     "data": {
      "image/png": "[encoded data removed]",
      "text/plain": [
       "<Figure size 432x288 with 1 Axes>"
      ]
     },
     "metadata": {
      "needs_background": "light"
     },
     "output_type": "display_data"
    }
   ],
   "source": [
    "words = []\n",
    "frequencies = []\n",
    "for i in range(0,75):\n",
    "    words.append(sorted_words[i][0])\n",
    "    frequencies.append(sorted_words[i][1])\n",
    "    \n",
    "plt.plot(words, frequencies)\n",
    "plt.show()"
   ]
  },
  {
   "cell_type": "markdown",
   "metadata": {},
   "source": [
    "<i> What is a bigram? How does it relate to collocations. Explain in your own words. </i>"
   ]
  },
  {
   "cell_type": "markdown",
   "metadata": {},
   "source": [
    "A bigram a couple of words that are use together. The difference between a collocation and a bigram is that a bigram won't necesseraly make sense whereas a collocation is an association of two words that make sense together, and in that way they are used together more ofter. So to find collocations we first look for bigrams, and the bigrams appearing the most are collocation."
   ]
  },
  {
   "cell_type": "markdown",
   "metadata": {},
   "source": [
    "+ <b> A pair of words that is often found together, like white horse. </b>"
   ]
  },
  {
   "cell_type": "markdown",
   "metadata": {},
   "source": [
    "<i> Work through ex 2-12 in NLPP's section 1.8. </i>"
   ]
  },
  {
   "cell_type": "markdown",
   "metadata": {},
   "source": [
    "Exercice 2"
   ]
  },
  {
   "cell_type": "markdown",
   "metadata": {},
   "source": [
    "☼ Given an alphabet of 26 letters, there are 26 to the power 10, or 26 ** 10, ten-letter strings we can form. That works out to 141167095653376. How many hundred-letter strings are possible?"
   ]
  },
  {
   "cell_type": "code",
   "execution_count": 24,
   "metadata": {},
   "outputs": [
    {
     "data": {
      "text/plain": [
       "3142930641582938830174357788501626427282669988762475256374173175398995908420104023465432599069702289330964075081611719197835869803511992549376"
      ]
     },
     "execution_count": 24,
     "metadata": {},
     "output_type": "execute_result"
    }
   ],
   "source": [
    "26 ** 100"
   ]
  },
  {
   "cell_type": "markdown",
   "metadata": {},
   "source": [
    "<b> 26 to the power of 100 hundred letter string possible </b>"
   ]
  },
  {
   "cell_type": "markdown",
   "metadata": {},
   "source": [
    "Exercice 3"
   ]
  },
  {
   "cell_type": "markdown",
   "metadata": {},
   "source": [
    "☼ The Python multiplication operation can be applied to lists. What happens when you type ['Monty', 'Python'] * 20, or 3 * sent1?"
   ]
  },
  {
   "cell_type": "markdown",
   "metadata": {},
   "source": [
    "<b> If we do v * b. It creates an array containing the variable v, b times. </b>"
   ]
  },
  {
   "cell_type": "markdown",
   "metadata": {},
   "source": [
    "Exercice 4"
   ]
  },
  {
   "cell_type": "markdown",
   "metadata": {},
   "source": [
    "☼ Review 1 on computing with language. How many words are there in text2? How many distinct words are there?"
   ]
  },
  {
   "cell_type": "code",
   "execution_count": 34,
   "metadata": {},
   "outputs": [
    {
     "name": "stdout",
     "output_type": "stream",
     "text": [
      "Text2 contains 141576 words\n"
     ]
    }
   ],
   "source": [
    "print(f\"Text2 contains {len(text2)} words\")"
   ]
  },
  {
   "cell_type": "code",
   "execution_count": 35,
   "metadata": {},
   "outputs": [
    {
     "name": "stdout",
     "output_type": "stream",
     "text": [
      "Text2 contains 6833 distinct words\n"
     ]
    }
   ],
   "source": [
    "print(f\"Text2 contains {len(set(text2))} distinct words\")"
   ]
  },
  {
   "cell_type": "markdown",
   "metadata": {},
   "source": [
    "Exercice 5"
   ]
  },
  {
   "cell_type": "markdown",
   "metadata": {},
   "source": [
    "☼ Compare the lexical diversity scores for humor and romance fiction in 1.1. Which genre is more lexically diverse?"
   ]
  },
  {
   "cell_type": "markdown",
   "metadata": {},
   "source": [
    "lexical diversity = distinct words / words\n",
    "\n",
    "humor: 0.231\n",
    "\n",
    "fiction: romance 0.121"
   ]
  },
  {
   "cell_type": "markdown",
   "metadata": {},
   "source": [
    "<b> Humor is more lexically diverse </b>"
   ]
  },
  {
   "cell_type": "markdown",
   "metadata": {},
   "source": [
    "Exercice 6"
   ]
  },
  {
   "cell_type": "markdown",
   "metadata": {},
   "source": [
    "☼ Produce a dispersion plot of the four main protagonists in Sense and Sensibility: Elinor, Marianne, Edward, and Willoughby. What can you observe about the different roles played by the males and females in this novel? Can you identify the couples?"
   ]
  },
  {
   "cell_type": "code",
   "execution_count": 38,
   "metadata": {},
   "outputs": [
    {
     "data": {
      "image/png": "[encoded data removed]",
      "text/plain": [
       "<Figure size 432x288 with 1 Axes>"
      ]
     },
     "metadata": {
      "needs_background": "light"
     },
     "output_type": "display_data"
    }
   ],
   "source": [
    "text2.dispersion_plot([\"Elinor\", \"Marianne\", \"Edward\", \"Willoughby\"])"
   ]
  },
  {
   "cell_type": "markdown",
   "metadata": {},
   "source": [
    "<b> In this book women have the most important roles. I'm not sure we really identify the couples, but if I could make a guess I'd say that Elinor and Edward are together and Willoughby and Marianne are also together. </b>"
   ]
  },
  {
   "cell_type": "markdown",
   "metadata": {},
   "source": [
    "Exercice 7"
   ]
  },
  {
   "cell_type": "markdown",
   "metadata": {},
   "source": [
    "☼ Find the collocations in text5."
   ]
  },
  {
   "cell_type": "code",
   "execution_count": 45,
   "metadata": {},
   "outputs": [
    {
     "name": "stdout",
     "output_type": "stream",
     "text": [
      "wanna chat; PART JOIN; MODE #14-19teens; JOIN PART; PART PART; cute.-ass MP3; MP3 player; JOIN JOIN; times .. .; ACTION watches; guys wanna; song lasts; last night; ACTION sits; -...)...- S.M.R.; Lime Player; Player 12%; dont know; lez gurls; long time\n"
     ]
    }
   ],
   "source": [
    "print('; '.join(text5.collocation_list()))"
   ]
  },
  {
   "cell_type": "markdown",
   "metadata": {},
   "source": [
    "Exercice 8"
   ]
  },
  {
   "cell_type": "markdown",
   "metadata": {},
   "source": [
    "☼ Consider the following Python expression: len(set(text4)). State the purpose of this expression. Describe the two steps involved in performing this computation."
   ]
  },
  {
   "cell_type": "markdown",
   "metadata": {},
   "source": [
    "<b> This expression gives us the number of distinct words in text4. \n",
    "\n",
    "First we create a set of the words in text4, a set enables us to make every duplicate collapsed together so we are just left with a list of distinct words. Then we asked for the length of that list using len(). So we are left with the size of a list only containing disctinct words hence the number of distinct words in text4</b>"
   ]
  },
  {
   "cell_type": "markdown",
   "metadata": {},
   "source": [
    "Exercice 9"
   ]
  },
  {
   "cell_type": "markdown",
   "metadata": {},
   "source": [
    "☼ Review 2 on lists and strings.\n",
    "Define a string and assign it to a variable, e.g., my_string = 'My String' (but put something more interesting in the string). Print the contents of this variable in two ways, first by simply typing the variable name and pressing enter, then by using the print statement.\n",
    "Try adding the string to itself using my_string + my_string, or multiplying it by a number, e.g., my_string * 3. Notice that the strings are joined together without any spaces. How could you fix this?"
   ]
  },
  {
   "cell_type": "code",
   "execution_count": 52,
   "metadata": {},
   "outputs": [],
   "source": [
    "a_string = 'Waddup I\\'m a string'"
   ]
  },
  {
   "cell_type": "code",
   "execution_count": 48,
   "metadata": {},
   "outputs": [
    {
     "data": {
      "text/plain": [
       "\"Waddup I'm a string\""
      ]
     },
     "execution_count": 48,
     "metadata": {},
     "output_type": "execute_result"
    }
   ],
   "source": [
    "a_string"
   ]
  },
  {
   "cell_type": "code",
   "execution_count": 49,
   "metadata": {},
   "outputs": [
    {
     "name": "stdout",
     "output_type": "stream",
     "text": [
      "Waddup I'm a string\n"
     ]
    }
   ],
   "source": [
    "print(a_string)"
   ]
  },
  {
   "cell_type": "code",
   "execution_count": 53,
   "metadata": {},
   "outputs": [
    {
     "data": {
      "text/plain": [
       "\"Waddup I'm a string. And I love it\""
      ]
     },
     "execution_count": 53,
     "metadata": {},
     "output_type": "execute_result"
    }
   ],
   "source": [
    "a_string = a_string + '. And I love it'\n",
    "a_string"
   ]
  },
  {
   "cell_type": "markdown",
   "metadata": {},
   "source": [
    "<b> Add a space before the new string </b>"
   ]
  },
  {
   "cell_type": "markdown",
   "metadata": {},
   "source": [
    "Exercice 10"
   ]
  },
  {
   "cell_type": "markdown",
   "metadata": {},
   "source": [
    "☼ Define a variable my_sent to be a list of words, using the syntax my_sent = [\"My\", \"sent\"] (but with your own words, or a favorite saying).\n",
    "\n",
    "Use ' '.join(my_sent) to convert this into a string.\n",
    "Use split() to split the string back into the list form you had to start with."
   ]
  },
  {
   "cell_type": "code",
   "execution_count": 55,
   "metadata": {},
   "outputs": [],
   "source": [
    "my_sent = [\"I\",\"love\",\"pancakes\"]"
   ]
  },
  {
   "cell_type": "code",
   "execution_count": 57,
   "metadata": {},
   "outputs": [
    {
     "data": {
      "text/plain": [
       "'I love pancakes'"
      ]
     },
     "execution_count": 57,
     "metadata": {},
     "output_type": "execute_result"
    }
   ],
   "source": [
    "to_string = ' '.join(my_sent)\n",
    "to_string"
   ]
  },
  {
   "cell_type": "code",
   "execution_count": 58,
   "metadata": {},
   "outputs": [
    {
     "data": {
      "text/plain": [
       "['I', 'love', 'pancakes']"
      ]
     },
     "execution_count": 58,
     "metadata": {},
     "output_type": "execute_result"
    }
   ],
   "source": [
    "another_list = to_string.split(' ')\n",
    "another_list"
   ]
  },
  {
   "cell_type": "markdown",
   "metadata": {},
   "source": [
    "Exercice 11"
   ]
  },
  {
   "cell_type": "markdown",
   "metadata": {},
   "source": [
    "☼ Define several variables containing lists of words, e.g., phrase1, phrase2, and so on. Join them together in various combinations (using the plus operator) to form whole sentences. What is the relationship between len(phrase1 + phrase2) and len(phrase1) + len(phrase2)?"
   ]
  },
  {
   "cell_type": "code",
   "execution_count": 59,
   "metadata": {},
   "outputs": [
    {
     "data": {
      "text/plain": [
       "['I', 'love', 'pancakes', 'I', 'love', 'trains']"
      ]
     },
     "execution_count": 59,
     "metadata": {},
     "output_type": "execute_result"
    }
   ],
   "source": [
    "phrase1 = [\"I\",\"love\",\"pancakes\"]\n",
    "phrase2 = [\"I\",\"love\",\"trains\"]\n",
    "whole = phrase1 + phrase2\n",
    "whole"
   ]
  },
  {
   "cell_type": "code",
   "execution_count": 60,
   "metadata": {},
   "outputs": [
    {
     "data": {
      "text/plain": [
       "6"
      ]
     },
     "execution_count": 60,
     "metadata": {},
     "output_type": "execute_result"
    }
   ],
   "source": [
    "len(phrase1 + phrase2)"
   ]
  },
  {
   "cell_type": "code",
   "execution_count": 61,
   "metadata": {},
   "outputs": [
    {
     "data": {
      "text/plain": [
       "6"
      ]
     },
     "execution_count": 61,
     "metadata": {},
     "output_type": "execute_result"
    }
   ],
   "source": [
    "len(phrase1) + len(phrase2)"
   ]
  },
  {
   "cell_type": "markdown",
   "metadata": {},
   "source": [
    "<b> They will return the same length as the first return the length of the two list merged into one, and the last one add the length of the two different lists</b>"
   ]
  },
  {
   "cell_type": "markdown",
   "metadata": {},
   "source": [
    "Exercice 12"
   ]
  },
  {
   "cell_type": "markdown",
   "metadata": {},
   "source": [
    "☼ Consider the following two expressions, which have the same value. Which one will typically be more relevant in NLP? Why?\n",
    "\n",
    "\"Monty Python\"[6:12]\n",
    "[\"Monty\", \"Python\"][1]"
   ]
  },
  {
   "cell_type": "code",
   "execution_count": 62,
   "metadata": {},
   "outputs": [
    {
     "data": {
      "text/plain": [
       "'Python'"
      ]
     },
     "execution_count": 62,
     "metadata": {},
     "output_type": "execute_result"
    }
   ],
   "source": [
    "\"Monty Python\"[6:12]"
   ]
  },
  {
   "cell_type": "code",
   "execution_count": 63,
   "metadata": {},
   "outputs": [
    {
     "data": {
      "text/plain": [
       "'Python'"
      ]
     },
     "execution_count": 63,
     "metadata": {},
     "output_type": "execute_result"
    }
   ],
   "source": [
    "[\"Monty\", \"Python\"][1]"
   ]
  },
  {
   "cell_type": "markdown",
   "metadata": {},
   "source": [
    "<b> The last one because it returns and access a whole words not characters from a string</b>"
   ]
  },
  {
   "cell_type": "markdown",
   "metadata": {},
   "source": [
    "<i> Work through exercise 15, 17, 19, 22, 23, 26, 27, 28 in section 1.8. </i>"
   ]
  },
  {
   "cell_type": "markdown",
   "metadata": {},
   "source": [
    "Exercice 15"
   ]
  },
  {
   "cell_type": "markdown",
   "metadata": {},
   "source": [
    "☼ Review the discussion of conditionals in 4. Find all words in the Chat Corpus (text5) starting with the letter b. Show them in alphabetical order."
   ]
  },
  {
   "cell_type": "code",
   "execution_count": 67,
   "metadata": {},
   "outputs": [
    {
     "data": {
      "text/plain": [
       "['B',\n",
       " 'BAAAAALLLLLLLLIIIIIIINNNNNNNNNNN',\n",
       " 'BE',\n",
       " 'BIG',\n",
       " 'BLONDES',\n",
       " 'BOOTS',\n",
       " 'BOOTY',\n",
       " 'BOY',\n",
       " 'BUT',\n",
       " 'BUt',\n",
       " 'BYE',\n",
       " 'Back',\n",
       " 'Barbieee',\n",
       " 'Barometer',\n",
       " 'Beach',\n",
       " 'Because',\n",
       " 'Been',\n",
       " 'Ben',\n",
       " 'Benjamin',\n",
       " 'Better',\n",
       " 'Bible',\n",
       " 'Biiiiiitch',\n",
       " 'Biographys',\n",
       " 'Birdgang',\n",
       " 'Bloooooooood',\n",
       " 'Bloooooooooood',\n",
       " 'Bloooooooooooood',\n",
       " 'Bone',\n",
       " 'Bonus',\n",
       " 'Books',\n",
       " 'Boone',\n",
       " 'Booyah',\n",
       " 'Borat',\n",
       " 'Born',\n",
       " 'Box',\n",
       " 'Boyz',\n",
       " 'Break',\n",
       " 'Breaking',\n",
       " 'Broken',\n",
       " 'Bud',\n",
       " 'Burger',\n",
       " 'But',\n",
       " 'Bwhaha',\n",
       " 'Bye',\n",
       " 'b',\n",
       " 'b-day',\n",
       " 'b/c',\n",
       " 'b4',\n",
       " 'babay',\n",
       " 'babble',\n",
       " 'babblein',\n",
       " 'babe',\n",
       " 'babes',\n",
       " 'babi',\n",
       " 'babies',\n",
       " 'babiess',\n",
       " 'baby',\n",
       " 'babycakeses',\n",
       " 'bachelorette',\n",
       " 'back',\n",
       " 'backatchya',\n",
       " 'backfrontsidewaysandallaroundtheworld',\n",
       " 'backroom',\n",
       " 'backup',\n",
       " 'bacl',\n",
       " 'bad',\n",
       " 'bag',\n",
       " 'bagel',\n",
       " 'bagels',\n",
       " 'bahahahaa',\n",
       " 'bak',\n",
       " 'baked',\n",
       " 'balad',\n",
       " 'balance',\n",
       " 'balck',\n",
       " 'ball',\n",
       " 'ballin',\n",
       " 'balls',\n",
       " 'ban',\n",
       " 'band',\n",
       " 'bandito',\n",
       " 'bandsaw',\n",
       " 'banjoes',\n",
       " 'banned',\n",
       " 'baord',\n",
       " 'bar',\n",
       " 'barbie',\n",
       " 'bare',\n",
       " 'barely',\n",
       " 'bares',\n",
       " 'barfights',\n",
       " 'barks',\n",
       " 'barn',\n",
       " 'barrel',\n",
       " 'base',\n",
       " 'bases',\n",
       " 'basically',\n",
       " 'basket',\n",
       " 'battery',\n",
       " 'bay',\n",
       " 'bbbbbyyyyyyyeeeeeeeee',\n",
       " 'bbiam',\n",
       " 'bbl',\n",
       " 'bbs',\n",
       " 'bc',\n",
       " 'be',\n",
       " 'beach',\n",
       " 'beachhhh',\n",
       " 'beam',\n",
       " 'beams',\n",
       " 'beanbag',\n",
       " 'beans',\n",
       " 'bear',\n",
       " 'bears',\n",
       " 'beat',\n",
       " 'beaten',\n",
       " 'beatles',\n",
       " 'beats',\n",
       " 'beattles',\n",
       " 'beautiful',\n",
       " 'because',\n",
       " 'beckley',\n",
       " 'become',\n",
       " 'bed',\n",
       " 'bedford',\n",
       " 'bedroom',\n",
       " 'beeeeehave',\n",
       " 'beeehave',\n",
       " 'been',\n",
       " 'beer',\n",
       " 'before',\n",
       " 'beg',\n",
       " 'begin',\n",
       " 'behave',\n",
       " 'behind',\n",
       " 'bein',\n",
       " 'being',\n",
       " 'beleive',\n",
       " 'believe',\n",
       " 'belive',\n",
       " 'bell',\n",
       " 'belly',\n",
       " 'belong',\n",
       " 'belongings',\n",
       " 'ben',\n",
       " 'bend',\n",
       " 'benz',\n",
       " 'bes',\n",
       " 'beside',\n",
       " 'besides',\n",
       " 'best',\n",
       " 'bet',\n",
       " 'betrayal',\n",
       " 'betta',\n",
       " 'better',\n",
       " 'between',\n",
       " 'beuty',\n",
       " 'bf',\n",
       " 'bi',\n",
       " 'biatch',\n",
       " 'bible',\n",
       " 'biebsa',\n",
       " 'bied',\n",
       " 'big',\n",
       " 'bigest',\n",
       " 'biggest',\n",
       " 'biiiatch',\n",
       " 'bike',\n",
       " 'bikes',\n",
       " 'bikini',\n",
       " 'bio',\n",
       " 'bird',\n",
       " 'birfday',\n",
       " 'birthday',\n",
       " 'bisexual',\n",
       " 'bishes',\n",
       " 'bit',\n",
       " 'bitch',\n",
       " 'bitches',\n",
       " 'bitdh',\n",
       " 'bite',\n",
       " 'bites',\n",
       " 'biyatch',\n",
       " 'biz',\n",
       " 'bj',\n",
       " 'black',\n",
       " 'blade',\n",
       " 'blah',\n",
       " 'blank',\n",
       " 'blankie',\n",
       " 'blazed',\n",
       " 'bleach',\n",
       " 'blech',\n",
       " 'bless',\n",
       " 'blessings',\n",
       " 'blew',\n",
       " 'blind',\n",
       " 'blinks',\n",
       " 'bliss',\n",
       " 'blocking',\n",
       " 'bloe',\n",
       " 'blood',\n",
       " 'blooded',\n",
       " 'bloody',\n",
       " 'blow',\n",
       " 'blowing',\n",
       " 'blowjob',\n",
       " 'blowup',\n",
       " 'blue',\n",
       " 'blueberry',\n",
       " 'bluer',\n",
       " 'blues',\n",
       " 'blunt',\n",
       " 'board',\n",
       " 'bob',\n",
       " 'bodies',\n",
       " 'body',\n",
       " 'boed',\n",
       " 'boght',\n",
       " 'boi',\n",
       " 'boing',\n",
       " 'boinked',\n",
       " 'bois',\n",
       " 'bomb',\n",
       " 'bone',\n",
       " 'boned',\n",
       " 'bones',\n",
       " 'bong',\n",
       " 'boning',\n",
       " 'bonus',\n",
       " 'boo',\n",
       " 'booboo',\n",
       " 'boobs',\n",
       " 'book',\n",
       " 'boom',\n",
       " 'boooooooooooglyyyyyy',\n",
       " 'boost',\n",
       " 'boot',\n",
       " 'bootay',\n",
       " 'booted',\n",
       " 'boots',\n",
       " 'booty',\n",
       " 'border',\n",
       " 'borderline',\n",
       " 'bored',\n",
       " 'boredom',\n",
       " 'boring',\n",
       " 'born',\n",
       " 'born-again',\n",
       " 'bosom',\n",
       " 'boss',\n",
       " 'bossy',\n",
       " 'bot',\n",
       " 'both',\n",
       " 'bother',\n",
       " 'bothering',\n",
       " 'bottle',\n",
       " 'bought',\n",
       " 'bounced',\n",
       " 'bouncer',\n",
       " 'bouncers',\n",
       " 'bound',\n",
       " 'bout',\n",
       " 'bouts',\n",
       " 'bow',\n",
       " 'bowl',\n",
       " 'box',\n",
       " 'boy',\n",
       " 'boyfriend',\n",
       " 'boys',\n",
       " 'bra',\n",
       " 'brad',\n",
       " 'brady',\n",
       " 'brain',\n",
       " 'brakes',\n",
       " 'brass',\n",
       " 'brat',\n",
       " 'brb',\n",
       " 'brbbb',\n",
       " 'bread',\n",
       " 'break',\n",
       " 'breaks',\n",
       " 'breath',\n",
       " 'breathe',\n",
       " 'bred',\n",
       " 'breeding',\n",
       " 'bright',\n",
       " 'brightened',\n",
       " 'bring',\n",
       " 'brings',\n",
       " 'bro',\n",
       " 'broke',\n",
       " 'brooklyn',\n",
       " 'brother',\n",
       " 'brothers',\n",
       " 'brought',\n",
       " 'brown',\n",
       " 'brrrrrrr',\n",
       " 'bruises',\n",
       " 'brunswick',\n",
       " 'brwn',\n",
       " 'btw',\n",
       " 'bucks',\n",
       " 'buddyyyyyy',\n",
       " 'buff',\n",
       " 'buffalo',\n",
       " 'bug',\n",
       " 'bugs',\n",
       " 'buh',\n",
       " 'build',\n",
       " 'builds',\n",
       " 'built',\n",
       " 'bull',\n",
       " 'bulls',\n",
       " 'bum',\n",
       " 'bumber',\n",
       " 'bummer',\n",
       " 'bumped',\n",
       " 'bumper',\n",
       " 'bunch',\n",
       " 'bunny',\n",
       " 'burger',\n",
       " 'burito',\n",
       " 'burned',\n",
       " 'burns',\n",
       " 'burp',\n",
       " 'burpin',\n",
       " 'burps',\n",
       " 'burried',\n",
       " 'burryed',\n",
       " 'bus',\n",
       " 'buses',\n",
       " 'bust',\n",
       " 'busted',\n",
       " 'busy',\n",
       " 'but',\n",
       " 'butt',\n",
       " 'butter',\n",
       " 'butterscotch',\n",
       " 'button',\n",
       " 'buttons',\n",
       " 'buy',\n",
       " 'buying',\n",
       " 'bwahahahahahahahahahaha',\n",
       " 'by',\n",
       " 'byb',\n",
       " 'bye',\n",
       " 'byeee',\n",
       " 'byeeee',\n",
       " 'byeeeeeeee',\n",
       " 'byeeeeeeeeeeeee',\n",
       " 'byes']"
      ]
     },
     "execution_count": 67,
     "metadata": {},
     "output_type": "execute_result"
    }
   ],
   "source": [
    "#Find all words starting with b\n",
    "#sorting alphabetically\n",
    "sorted(word for word in set(text5) if word.startswith('b'))"
   ]
  },
  {
   "cell_type": "markdown",
   "metadata": {},
   "source": [
    "Exercice 17"
   ]
  },
  {
   "cell_type": "markdown",
   "metadata": {},
   "source": [
    "◑ Use text9.index() to find the index of the word sunset. You'll need to insert this word as an argument between the parentheses. By a process of trial and error, find the slice for the complete sentence that contains this word."
   ]
  },
  {
   "cell_type": "code",
   "execution_count": 68,
   "metadata": {},
   "outputs": [
    {
     "data": {
      "text/plain": [
       "629"
      ]
     },
     "execution_count": 68,
     "metadata": {},
     "output_type": "execute_result"
    }
   ],
   "source": [
    "text9.index('sunset')"
   ]
  },
  {
   "cell_type": "code",
   "execution_count": 81,
   "metadata": {},
   "outputs": [
    {
     "data": {
      "text/plain": [
       "'THE suburb of Saffron Park lay on the sunset side of London , as red and ragged as a cloud of sunset .'"
      ]
     },
     "execution_count": 81,
     "metadata": {},
     "output_type": "execute_result"
    }
   ],
   "source": [
    "' '.join(text9[621:644])"
   ]
  },
  {
   "cell_type": "markdown",
   "metadata": {},
   "source": [
    "Exercice 19"
   ]
  },
  {
   "cell_type": "markdown",
   "metadata": {},
   "source": [
    "◑ What is the difference between the following two lines? Which one will give a larger value? Will this be the case for other texts?"
   ]
  },
  {
   "cell_type": "code",
   "execution_count": 83,
   "metadata": {},
   "outputs": [
    {
     "data": {
      "text/plain": [
       "17231"
      ]
     },
     "execution_count": 83,
     "metadata": {},
     "output_type": "execute_result"
    }
   ],
   "source": [
    "len(sorted(set(w.lower() for w in text1)))"
   ]
  },
  {
   "cell_type": "code",
   "execution_count": 84,
   "metadata": {},
   "outputs": [
    {
     "data": {
      "text/plain": [
       "19317"
      ]
     },
     "execution_count": 84,
     "metadata": {},
     "output_type": "execute_result"
    }
   ],
   "source": [
    "len(sorted(w.lower() for w in set(text1)))"
   ]
  },
  {
   "cell_type": "markdown",
   "metadata": {},
   "source": [
    "<b> First one creates a set with the words in text 1 then sorts it.\n",
    "    The second one first creates a set then sorts the words in the set.\n",
    "    \n",
    "    The second one will give a larger value.\n",
    "\n",
    "Yes this should be the case for each ones </b>"
   ]
  },
  {
   "cell_type": "markdown",
   "metadata": {},
   "source": [
    "Exercice 22"
   ]
  },
  {
   "cell_type": "markdown",
   "metadata": {},
   "source": [
    "◑ Find all the four-letter words in the Chat Corpus (text5). With the help of a frequency distribution (FreqDist), show these words in decreasing order of frequency."
   ]
  },
  {
   "cell_type": "code",
   "execution_count": 103,
   "metadata": {},
   "outputs": [
    {
     "data": {
      "text/plain": [
       "['!!!!',\n",
       " '!!!.',\n",
       " '!...',\n",
       " '!???',\n",
       " '\"...',\n",
       " '####',\n",
       " '((((',\n",
       " '))))',\n",
       " ',,,,',\n",
       " '.. .',\n",
       " '....',\n",
       " '.op.',\n",
       " '1.98',\n",
       " '1.99',\n",
       " '100%',\n",
       " '10th',\n",
       " '1200',\n",
       " '1299',\n",
       " '18ST',\n",
       " '1900',\n",
       " '1930',\n",
       " '1980',\n",
       " '1985',\n",
       " '1996',\n",
       " '1cos',\n",
       " '2006',\n",
       " '2:55',\n",
       " '2DAY',\n",
       " '2Pac',\n",
       " '39.3',\n",
       " '3:45',\n",
       " '4.20',\n",
       " '45.5',\n",
       " '4:03',\n",
       " '64.8',\n",
       " '6:38',\n",
       " '6:41',\n",
       " '6:51',\n",
       " '6:53',\n",
       " '7:45',\n",
       " '9.53',\n",
       " '98.5',\n",
       " '98.6',\n",
       " '9:10',\n",
       " ':o *',\n",
       " '; ..',\n",
       " '<---',\n",
       " \"<3's\",\n",
       " '<333',\n",
       " '<<<<',\n",
       " '<~~~',\n",
       " '>:->',\n",
       " '?!?!',\n",
       " '??!!',\n",
       " '????',\n",
       " 'AKDT',\n",
       " 'AKST',\n",
       " 'AWAY',\n",
       " 'Ahhh',\n",
       " 'Away',\n",
       " 'Awww',\n",
       " 'Back',\n",
       " 'Been',\n",
       " 'Bone',\n",
       " 'Born',\n",
       " 'Boyz',\n",
       " 'CALI',\n",
       " 'CAPS',\n",
       " 'CHAT',\n",
       " 'COME',\n",
       " 'Came',\n",
       " 'Care',\n",
       " 'Chat',\n",
       " 'Chop',\n",
       " 'City',\n",
       " 'Come',\n",
       " 'Cool',\n",
       " 'Ctrl',\n",
       " 'Cute',\n",
       " 'DAMN',\n",
       " 'DING',\n",
       " 'DOES',\n",
       " 'DONT',\n",
       " 'Damn',\n",
       " 'Dang',\n",
       " 'Dawn',\n",
       " 'Days',\n",
       " 'Deep',\n",
       " 'Does',\n",
       " 'Dood',\n",
       " 'Down',\n",
       " 'Drew',\n",
       " 'Drop',\n",
       " 'Dude',\n",
       " 'ELSE',\n",
       " 'EVEN',\n",
       " 'Eggs',\n",
       " 'Elev',\n",
       " 'Elle',\n",
       " 'Even',\n",
       " 'Evil',\n",
       " 'Eyes',\n",
       " 'FACE',\n",
       " 'FINE',\n",
       " 'FROM',\n",
       " 'Fade',\n",
       " 'Food',\n",
       " 'Fort',\n",
       " 'From',\n",
       " 'GIRL',\n",
       " 'GOOD',\n",
       " 'GUYS',\n",
       " 'Girl',\n",
       " 'Good',\n",
       " 'Gosh',\n",
       " 'GrlZ',\n",
       " 'HAHA',\n",
       " 'HALO',\n",
       " 'HAVE',\n",
       " 'HERE',\n",
       " 'HOTT',\n",
       " 'HUGE',\n",
       " 'Haha',\n",
       " 'Hail',\n",
       " 'Hand',\n",
       " 'Hard',\n",
       " 'Have',\n",
       " 'Help',\n",
       " 'Here',\n",
       " 'Hero',\n",
       " 'Heya',\n",
       " 'Heys',\n",
       " 'Heyy',\n",
       " 'High',\n",
       " 'Hill',\n",
       " 'Hiya',\n",
       " 'Hold',\n",
       " 'Holy',\n",
       " 'Home',\n",
       " 'Hott',\n",
       " 'Hugs',\n",
       " 'Iowa',\n",
       " 'JOIN',\n",
       " 'JUST',\n",
       " 'Jane',\n",
       " 'Jess',\n",
       " 'Joey',\n",
       " 'John',\n",
       " 'Judy',\n",
       " 'Just',\n",
       " 'KNOW',\n",
       " 'Kent',\n",
       " 'Kewl',\n",
       " 'Kick',\n",
       " 'Kids',\n",
       " 'King',\n",
       " 'Kiss',\n",
       " 'KoOL',\n",
       " 'Kold',\n",
       " 'LATE',\n",
       " 'LAst',\n",
       " 'LIVE',\n",
       " 'LMAO',\n",
       " 'LONG',\n",
       " 'LOUD',\n",
       " 'Last',\n",
       " 'Lets',\n",
       " 'Liam',\n",
       " 'Lies',\n",
       " 'Life',\n",
       " 'Like',\n",
       " 'Lime',\n",
       " 'Lion',\n",
       " 'Live',\n",
       " 'Lmao',\n",
       " 'LoVe',\n",
       " 'Long',\n",
       " 'Look',\n",
       " 'Lord',\n",
       " 'Love',\n",
       " 'MODE',\n",
       " 'MORE',\n",
       " 'MRIs',\n",
       " 'MUAH',\n",
       " 'Male',\n",
       " 'Maps',\n",
       " 'Mary',\n",
       " 'Matt',\n",
       " 'Meep',\n",
       " 'Mine',\n",
       " 'Mono',\n",
       " 'NAME',\n",
       " 'NICK',\n",
       " 'NONE',\n",
       " 'NTMN',\n",
       " 'Need',\n",
       " 'News',\n",
       " 'Nice',\n",
       " 'None',\n",
       " 'Nooo',\n",
       " 'Nope',\n",
       " 'Nova',\n",
       " 'O.k.',\n",
       " 'OOPS',\n",
       " 'Ohhh',\n",
       " 'Ohio',\n",
       " 'Okay',\n",
       " 'Only',\n",
       " 'Oops',\n",
       " 'Over',\n",
       " 'PART',\n",
       " \"PM's\",\n",
       " 'PMSL',\n",
       " 'Paul',\n",
       " 'Phil',\n",
       " 'Poor',\n",
       " 'Pour',\n",
       " 'Prof',\n",
       " 'QUIT',\n",
       " \"RN's\",\n",
       " 'ROFL',\n",
       " 'ROOM',\n",
       " 'Rang',\n",
       " 'Reub',\n",
       " 'Rick',\n",
       " 'Road',\n",
       " 'Rock',\n",
       " 'Rofl',\n",
       " 'Room',\n",
       " 'Rule',\n",
       " 'Rush',\n",
       " 'Ruth',\n",
       " 'SEEN',\n",
       " 'SExy',\n",
       " 'SIZE',\n",
       " 'SOME',\n",
       " 'SSRI',\n",
       " 'STOP',\n",
       " 'Same',\n",
       " 'Sat.',\n",
       " 'Save',\n",
       " 'Seee',\n",
       " 'Sexy',\n",
       " 'Show',\n",
       " 'Slip',\n",
       " 'Song',\n",
       " 'Stop',\n",
       " 'Sure',\n",
       " 'Swim',\n",
       " 'TALK',\n",
       " 'TEXT',\n",
       " 'THAT',\n",
       " 'THEY',\n",
       " 'TIME',\n",
       " 'TYPR',\n",
       " 'Take',\n",
       " 'Talk',\n",
       " 'Teck',\n",
       " 'Tell',\n",
       " 'That',\n",
       " 'Then',\n",
       " 'They',\n",
       " 'This',\n",
       " 'Tide',\n",
       " 'Tiff',\n",
       " 'Time',\n",
       " 'Tina',\n",
       " 'Tisk',\n",
       " 'Troy',\n",
       " 'Turn',\n",
       " 'Type',\n",
       " 'U100',\n",
       " 'U101',\n",
       " 'U102',\n",
       " 'U103',\n",
       " 'U104',\n",
       " 'U105',\n",
       " 'U106',\n",
       " 'U107',\n",
       " 'U108',\n",
       " 'U109',\n",
       " 'U110',\n",
       " 'U111',\n",
       " 'U112',\n",
       " 'U113',\n",
       " 'U114',\n",
       " 'U115',\n",
       " 'U116',\n",
       " 'U117',\n",
       " 'U118',\n",
       " 'U119',\n",
       " 'U120',\n",
       " 'U121',\n",
       " 'U122',\n",
       " 'U123',\n",
       " 'U126',\n",
       " 'U128',\n",
       " 'U129',\n",
       " 'U130',\n",
       " 'U132',\n",
       " 'U133',\n",
       " 'U134',\n",
       " 'U136',\n",
       " 'U137',\n",
       " 'U138',\n",
       " 'U139',\n",
       " 'U141',\n",
       " 'U142',\n",
       " 'U143',\n",
       " 'U144',\n",
       " 'U145',\n",
       " 'U146',\n",
       " 'U147',\n",
       " 'U148',\n",
       " 'U149',\n",
       " 'U150',\n",
       " 'U153',\n",
       " 'U154',\n",
       " 'U155',\n",
       " 'U156',\n",
       " 'U158',\n",
       " 'U163',\n",
       " 'U164',\n",
       " 'U165',\n",
       " 'U168',\n",
       " 'U169',\n",
       " 'U170',\n",
       " 'U172',\n",
       " 'U175',\n",
       " 'U181',\n",
       " 'U190',\n",
       " 'U196',\n",
       " 'U197',\n",
       " 'U219',\n",
       " 'U520',\n",
       " 'U542',\n",
       " 'U819',\n",
       " 'U820',\n",
       " 'U988',\n",
       " 'U989',\n",
       " 'Uhhh',\n",
       " 'Ummm',\n",
       " 'VBox',\n",
       " 'VVil',\n",
       " 'Very',\n",
       " 'WHEN',\n",
       " 'WHOA',\n",
       " 'WILL',\n",
       " 'WITH',\n",
       " 'Well',\n",
       " 'Werd',\n",
       " 'Were',\n",
       " 'West',\n",
       " 'What',\n",
       " 'When',\n",
       " 'Will',\n",
       " 'Wind',\n",
       " 'Wyte',\n",
       " 'YALL',\n",
       " 'YOUR',\n",
       " 'Yeah',\n",
       " 'Yoko',\n",
       " 'York',\n",
       " 'Your',\n",
       " 'able',\n",
       " 'abou',\n",
       " 'acid',\n",
       " 'adds',\n",
       " 'addy',\n",
       " 'ages',\n",
       " 'ahah',\n",
       " 'ahem',\n",
       " 'ahhh',\n",
       " 'aime',\n",
       " 'aint',\n",
       " 'akon',\n",
       " 'allo',\n",
       " 'ally',\n",
       " 'alot',\n",
       " 'also',\n",
       " 'amen',\n",
       " 'anal',\n",
       " 'anti',\n",
       " 'any1',\n",
       " 'area',\n",
       " 'argh',\n",
       " 'arms',\n",
       " 'army',\n",
       " 'asks',\n",
       " 'asss',\n",
       " 'aunt',\n",
       " 'away',\n",
       " 'awww',\n",
       " 'babe',\n",
       " 'babi',\n",
       " 'baby',\n",
       " 'back',\n",
       " 'bacl',\n",
       " 'ball',\n",
       " 'band',\n",
       " 'bare',\n",
       " 'barn',\n",
       " 'base',\n",
       " 'beam',\n",
       " 'bear',\n",
       " 'beat',\n",
       " 'been',\n",
       " 'beer',\n",
       " 'bein',\n",
       " 'bell',\n",
       " 'bend',\n",
       " 'benz',\n",
       " 'best',\n",
       " 'bied',\n",
       " 'bike',\n",
       " 'bird',\n",
       " 'bite',\n",
       " 'blah',\n",
       " 'blew',\n",
       " 'bloe',\n",
       " 'blow',\n",
       " 'blue',\n",
       " 'body',\n",
       " 'boed',\n",
       " 'bois',\n",
       " 'bomb',\n",
       " 'bone',\n",
       " 'bong',\n",
       " 'book',\n",
       " 'boom',\n",
       " 'boot',\n",
       " 'born',\n",
       " 'boss',\n",
       " 'both',\n",
       " 'bout',\n",
       " 'bowl',\n",
       " 'boys',\n",
       " 'brad',\n",
       " 'brat',\n",
       " 'bred',\n",
       " 'brwn',\n",
       " 'buff',\n",
       " 'bugs',\n",
       " 'bull',\n",
       " 'burp',\n",
       " 'bust',\n",
       " 'busy',\n",
       " 'butt',\n",
       " 'byes',\n",
       " 'caan',\n",
       " 'caca',\n",
       " 'cali',\n",
       " 'call',\n",
       " 'calm',\n",
       " 'came',\n",
       " 'cams',\n",
       " 'cant',\n",
       " 'caps',\n",
       " 'card',\n",
       " 'care',\n",
       " 'cars',\n",
       " 'case',\n",
       " 'cash',\n",
       " 'cast',\n",
       " 'cell',\n",
       " 'cepn',\n",
       " 'chat',\n",
       " 'chik',\n",
       " 'chip',\n",
       " 'chit',\n",
       " 'choc',\n",
       " 'ciao',\n",
       " 'city',\n",
       " 'clap',\n",
       " 'clay',\n",
       " 'club',\n",
       " 'clue',\n",
       " 'cmon',\n",
       " 'coat',\n",
       " 'cock',\n",
       " 'coem',\n",
       " 'cold',\n",
       " 'come',\n",
       " 'comp',\n",
       " 'cook',\n",
       " 'cool',\n",
       " 'cops',\n",
       " 'corn',\n",
       " 'cost',\n",
       " 'crap',\n",
       " 'crib',\n",
       " 'crop',\n",
       " 'cums',\n",
       " 'cure',\n",
       " 'cuss',\n",
       " 'cute',\n",
       " 'cyas',\n",
       " 'daft',\n",
       " 'damn',\n",
       " 'dang',\n",
       " 'dark',\n",
       " 'date',\n",
       " 'dawg',\n",
       " 'days',\n",
       " 'dead',\n",
       " 'deaf',\n",
       " 'deal',\n",
       " 'dear',\n",
       " 'deep',\n",
       " 'deop',\n",
       " 'dick',\n",
       " 'died',\n",
       " 'dies',\n",
       " 'dint',\n",
       " 'dirt',\n",
       " 'disc',\n",
       " 'dman',\n",
       " 'docs',\n",
       " 'does',\n",
       " 'dogs',\n",
       " 'doin',\n",
       " 'dojn',\n",
       " 'doll',\n",
       " 'done',\n",
       " 'dont',\n",
       " 'door',\n",
       " 'dork',\n",
       " 'dotn',\n",
       " 'down',\n",
       " 'draw',\n",
       " 'drew',\n",
       " 'drop',\n",
       " 'drug',\n",
       " 'dude',\n",
       " 'duet',\n",
       " 'dumb',\n",
       " 'dump',\n",
       " 'dust',\n",
       " 'dyed',\n",
       " 'each',\n",
       " 'ears',\n",
       " 'east',\n",
       " 'easy',\n",
       " 'eats',\n",
       " 'ebay',\n",
       " 'eeek',\n",
       " 'eeww',\n",
       " 'elle',\n",
       " 'ello',\n",
       " 'else',\n",
       " 'enuf',\n",
       " 'eric',\n",
       " 'este',\n",
       " 'evah',\n",
       " 'even',\n",
       " 'ever',\n",
       " 'evil',\n",
       " 'ewww',\n",
       " \"ex's\",\n",
       " 'exit',\n",
       " 'eyes',\n",
       " 'face',\n",
       " 'fair',\n",
       " 'fake',\n",
       " 'fall',\n",
       " 'fart',\n",
       " 'fast',\n",
       " 'fawk',\n",
       " 'fear',\n",
       " 'feat',\n",
       " 'febe',\n",
       " 'feel',\n",
       " 'feet',\n",
       " 'felt',\n",
       " 'find',\n",
       " 'fine',\n",
       " 'fire',\n",
       " 'firs',\n",
       " 'fish',\n",
       " 'fits',\n",
       " 'five',\n",
       " 'flaw',\n",
       " 'flow',\n",
       " 'fock',\n",
       " 'food',\n",
       " 'fool',\n",
       " 'foot',\n",
       " 'form',\n",
       " 'four',\n",
       " 'free',\n",
       " 'from',\n",
       " 'frst',\n",
       " 'fuck',\n",
       " 'full',\n",
       " 'gags',\n",
       " 'gals',\n",
       " 'game',\n",
       " 'gawd',\n",
       " 'gays',\n",
       " 'gear',\n",
       " 'gees',\n",
       " 'geez',\n",
       " 'gets',\n",
       " 'ghet',\n",
       " 'gift',\n",
       " 'gimp',\n",
       " 'girl',\n",
       " 'giva',\n",
       " 'give',\n",
       " 'givs',\n",
       " 'glad',\n",
       " 'goes',\n",
       " 'goin',\n",
       " 'gold',\n",
       " 'golf',\n",
       " 'gone',\n",
       " 'good',\n",
       " 'goof',\n",
       " 'gooo',\n",
       " 'gosh',\n",
       " 'gray',\n",
       " 'grea',\n",
       " 'gret',\n",
       " 'grew',\n",
       " 'grin',\n",
       " 'grrl',\n",
       " 'grrr',\n",
       " 'guns',\n",
       " 'guts',\n",
       " 'guys',\n",
       " 'guyz',\n",
       " 'haaa',\n",
       " 'haha',\n",
       " 'hail',\n",
       " 'hair',\n",
       " 'half',\n",
       " 'hall',\n",
       " 'halo',\n",
       " 'hand',\n",
       " 'hang',\n",
       " 'hank',\n",
       " 'hard',\n",
       " 'hate',\n",
       " 'have',\n",
       " 'hawT',\n",
       " 'hawt',\n",
       " 'haze',\n",
       " 'hazy',\n",
       " 'head',\n",
       " 'heal',\n",
       " 'hear',\n",
       " 'heat',\n",
       " 'heck',\n",
       " 'heee',\n",
       " 'hehe',\n",
       " 'hell',\n",
       " 'help',\n",
       " 'herE',\n",
       " 'herd',\n",
       " 'here',\n",
       " 'heya',\n",
       " 'heyy',\n",
       " 'hgey',\n",
       " 'hick',\n",
       " 'hide',\n",
       " 'high',\n",
       " 'hiii',\n",
       " 'hill',\n",
       " 'hint',\n",
       " 'hiom',\n",
       " 'hits',\n",
       " 'hiya',\n",
       " 'hmmm',\n",
       " 'hmph',\n",
       " 'hogs',\n",
       " 'hola',\n",
       " 'hold',\n",
       " 'holy',\n",
       " 'home',\n",
       " 'hong',\n",
       " 'hook',\n",
       " 'hooo',\n",
       " 'hope',\n",
       " 'hots',\n",
       " 'hott',\n",
       " 'hour',\n",
       " 'howl',\n",
       " 'hows',\n",
       " 'howz',\n",
       " 'http',\n",
       " 'huge',\n",
       " 'hugs',\n",
       " 'humm',\n",
       " 'hump',\n",
       " 'hurr',\n",
       " 'hurt',\n",
       " 'icky',\n",
       " 'idea',\n",
       " 'idnt',\n",
       " 'imma',\n",
       " 'inch',\n",
       " 'into',\n",
       " 'isnt',\n",
       " \"it's\",\n",
       " 'itch',\n",
       " 'jack',\n",
       " 'jail',\n",
       " 'jeep',\n",
       " 'jeff',\n",
       " 'jerk',\n",
       " 'john',\n",
       " 'joke',\n",
       " 'jude',\n",
       " 'jump',\n",
       " 'junk',\n",
       " 'jush',\n",
       " 'just',\n",
       " 'keep',\n",
       " 'kent',\n",
       " 'kept',\n",
       " 'kewl',\n",
       " 'keys',\n",
       " 'kick',\n",
       " 'kids',\n",
       " 'kill',\n",
       " 'kina',\n",
       " 'kind',\n",
       " 'king',\n",
       " 'kiss',\n",
       " 'kmph',\n",
       " 'knee',\n",
       " 'knew',\n",
       " 'know',\n",
       " 'kold',\n",
       " 'kong',\n",
       " 'kool',\n",
       " 'lady',\n",
       " 'ladz',\n",
       " 'laid',\n",
       " 'lake',\n",
       " 'lala',\n",
       " 'lame',\n",
       " 'land',\n",
       " 'lapd',\n",
       " 'last',\n",
       " 'late',\n",
       " 'lawl',\n",
       " 'lazy',\n",
       " 'lead',\n",
       " 'left',\n",
       " 'legs',\n",
       " 'lets',\n",
       " 'lick',\n",
       " 'lies',\n",
       " 'life',\n",
       " 'like',\n",
       " 'limp',\n",
       " 'line',\n",
       " 'lisa',\n",
       " 'list',\n",
       " 'live',\n",
       " 'lmao',\n",
       " 'lois',\n",
       " 'lol.',\n",
       " 'long',\n",
       " 'look',\n",
       " 'lool',\n",
       " 'lord',\n",
       " 'lose',\n",
       " 'loss',\n",
       " 'lost',\n",
       " 'lots',\n",
       " 'loud',\n",
       " 'love',\n",
       " 'ltnc',\n",
       " 'ltns',\n",
       " 'lube',\n",
       " 'luck',\n",
       " 'lung',\n",
       " 'lust',\n",
       " 'luvs',\n",
       " 'lyin',\n",
       " 'made',\n",
       " 'mahn',\n",
       " 'main',\n",
       " 'make',\n",
       " 'male',\n",
       " 'mama',\n",
       " 'mame',\n",
       " 'mami',\n",
       " 'mang',\n",
       " 'many',\n",
       " 'mark',\n",
       " 'mary',\n",
       " 'mass',\n",
       " 'mauh',\n",
       " 'mean',\n",
       " 'meat',\n",
       " 'meds',\n",
       " 'meet',\n",
       " 'mena',\n",
       " 'menu',\n",
       " 'mess',\n",
       " 'mike',\n",
       " 'mind',\n",
       " 'mine',\n",
       " 'mins',\n",
       " 'miss',\n",
       " 'mite',\n",
       " 'mkay',\n",
       " 'mmmm',\n",
       " 'mode',\n",
       " 'mofo',\n",
       " 'moms',\n",
       " 'mono',\n",
       " 'moon',\n",
       " 'more',\n",
       " 'most',\n",
       " 'move',\n",
       " 'much',\n",
       " 'must',\n",
       " 'n9ne',\n",
       " 'nada',\n",
       " 'nads',\n",
       " 'name',\n",
       " 'nana',\n",
       " 'nawp',\n",
       " 'nawt',\n",
       " 'near',\n",
       " 'neck',\n",
       " 'need',\n",
       " 'nerd',\n",
       " 'newp',\n",
       " 'next',\n",
       " 'nice',\n",
       " 'nick',\n",
       " 'nite',\n",
       " 'nods',\n",
       " 'none',\n",
       " 'nope',\n",
       " 'nose',\n",
       " 'note',\n",
       " 'noth',\n",
       " 'nude',\n",
       " 'nuff',\n",
       " 'numb',\n",
       " 'o.k.',\n",
       " 'offa',\n",
       " 'ogan',\n",
       " 'ohhh',\n",
       " 'ohio',\n",
       " 'ohwa',\n",
       " \"ok'd\",\n",
       " 'okay',\n",
       " 'okey',\n",
       " 'once',\n",
       " 'ones',\n",
       " 'only',\n",
       " 'ooer',\n",
       " 'oooh',\n",
       " 'oops',\n",
       " 'open',\n",
       " 'opps',\n",
       " 'orgy',\n",
       " 'orta',\n",
       " 'otay',\n",
       " 'ouch',\n",
       " 'out.',\n",
       " 'outa',\n",
       " 'outs',\n",
       " 'over',\n",
       " 'owww',\n",
       " 'page',\n",
       " 'paid',\n",
       " 'pain',\n",
       " 'pair',\n",
       " 'park',\n",
       " 'part',\n",
       " 'pasa',\n",
       " 'pass',\n",
       " 'past',\n",
       " 'peek',\n",
       " 'peel',\n",
       " 'perk',\n",
       " 'perv',\n",
       " 'pfft',\n",
       " 'phil',\n",
       " 'pick',\n",
       " 'pics',\n",
       " 'pies',\n",
       " 'piff',\n",
       " 'pigs',\n",
       " 'pimp',\n",
       " 'pine',\n",
       " 'pink',\n",
       " 'plan',\n",
       " 'play',\n",
       " 'plow',\n",
       " 'plus',\n",
       " \"pm'n\",\n",
       " \"pm's\",\n",
       " 'pmsl',\n",
       " 'poem',\n",
       " 'poll',\n",
       " 'poof',\n",
       " 'pool',\n",
       " 'poop',\n",
       " 'poor',\n",
       " 'poot',\n",
       " 'pope',\n",
       " 'pork',\n",
       " 'porn',\n",
       " 'post',\n",
       " 'pour',\n",
       " 'pray',\n",
       " 'prep',\n",
       " 'prob',\n",
       " 'puff',\n",
       " 'puke',\n",
       " 'pull',\n",
       " 'pure',\n",
       " 'push',\n",
       " 'puts',\n",
       " 'pwns',\n",
       " 'ques',\n",
       " 'quit',\n",
       " 'quiz',\n",
       " 'raed',\n",
       " 'rain',\n",
       " 'rang',\n",
       " 'rape',\n",
       " 'rats',\n",
       " 'read',\n",
       " 'real',\n",
       " 'rent',\n",
       " 'rest',\n",
       " 'ribs',\n",
       " 'rich',\n",
       " 'ride',\n",
       " 'ring',\n",
       " 'road',\n",
       " 'rock',\n",
       " 'rofl',\n",
       " 'roll',\n",
       " 'roof',\n",
       " 'room',\n",
       " 'root',\n",
       " 'rose',\n",
       " 'rubs',\n",
       " 'ruff',\n",
       " 'rule',\n",
       " 'runs',\n",
       " 'rush',\n",
       " 'saME',\n",
       " 'safe',\n",
       " 'said',\n",
       " 'salt',\n",
       " 'same',\n",
       " 'samn',\n",
       " 'sand',\n",
       " 'sang',\n",
       " 'sayn',\n",
       " 'says',\n",
       " 'scar',\n",
       " 'scuk',\n",
       " 'scum',\n",
       " 'sean',\n",
       " 'seat',\n",
       " 'seee',\n",
       " 'seem',\n",
       " 'seen',\n",
       " 'self',\n",
       " 'sell',\n",
       " 'send',\n",
       " 'sent',\n",
       " 'serg',\n",
       " 'seth',\n",
       " 'sets',\n",
       " 'sexi',\n",
       " 'sexs',\n",
       " 'sext',\n",
       " 'sexy',\n",
       " 'shes',\n",
       " 'shit',\n",
       " 'shop',\n",
       " 'shot',\n",
       " 'show',\n",
       " 'shup',\n",
       " 'shut',\n",
       " 'sick',\n",
       " 'side',\n",
       " 'sigh',\n",
       " 'sign',\n",
       " 'sing',\n",
       " 'sink',\n",
       " 'sips',\n",
       " 'site',\n",
       " 'sits',\n",
       " 'size',\n",
       " 'skin',\n",
       " ...]"
      ]
     },
     "execution_count": 103,
     "metadata": {},
     "output_type": "execute_result"
    }
   ],
   "source": [
    "four_let = []\n",
    "for word in text5:\n",
    "    if len(word) == 4:\n",
    "        four_let.append(word)\n",
    "\n",
    "fdist = FreqDist(four_let)\n",
    "\n",
    "four_let = sorted(w for w in set(text5) if len(w) == 4)\n",
    "\n",
    "sorted(four_let, key=lambda student: student[2])\n"
   ]
  },
  {
   "cell_type": "markdown",
   "metadata": {},
   "source": [
    "Exercice 23"
   ]
  },
  {
   "cell_type": "markdown",
   "metadata": {},
   "source": [
    "◑ Review the discussion of looping with conditions in 4. Use a combination of for and if statements to loop over the words of the movie script for Monty Python and the Holy Grail (text6) and print all the uppercase words, one per line."
   ]
  },
  {
   "cell_type": "code",
   "execution_count": null,
   "metadata": {},
   "outputs": [],
   "source": []
  },
  {
   "cell_type": "markdown",
   "metadata": {},
   "source": [
    "Exercice 26"
   ]
  },
  {
   "cell_type": "markdown",
   "metadata": {},
   "source": [
    "◑ What does the following Python code do? sum(len(w) for w in text1) Can you use it to work out the average word length of a text?"
   ]
  },
  {
   "cell_type": "code",
   "execution_count": null,
   "metadata": {},
   "outputs": [],
   "source": []
  },
  {
   "cell_type": "markdown",
   "metadata": {},
   "source": [
    "Exercice 27"
   ]
  },
  {
   "cell_type": "markdown",
   "metadata": {},
   "source": [
    "◑ Define a function called vocab_size(text) that has a single parameter for the text, and which returns the vocabulary size of the text."
   ]
  },
  {
   "cell_type": "code",
   "execution_count": null,
   "metadata": {},
   "outputs": [],
   "source": []
  },
  {
   "cell_type": "markdown",
   "metadata": {},
   "source": [
    "Exercice 28"
   ]
  },
  {
   "cell_type": "markdown",
   "metadata": {},
   "source": [
    "◑ Define a function percent(word, text) that calculates how often a given word occurs in a text, and expresses the result as a percentage."
   ]
  },
  {
   "cell_type": "code",
   "execution_count": null,
   "metadata": {},
   "outputs": [],
   "source": [
    "# word is a string\n",
    "# text is the name of the text to search through\n",
    "def percent(word, text):\n",
    "    # find the number of time word in mention text\n",
    "    fdist = FreqDist(text)\n",
    "    occurence = fdist[word]\n",
    "    # find the number of words in text\n",
    "    total = len(text)\n",
    "    return 100 * occurence / total"
   ]
  }
 ],
 "metadata": {
  "kernelspec": {
   "display_name": "Python 3",
   "language": "python",
   "name": "python3"
  },
  "language_info": {
   "codemirror_mode": {
    "name": "ipython",
    "version": 3
   },
   "file_extension": ".py",
   "mimetype": "text/x-python",
   "name": "python",
   "nbconvert_exporter": "python",
   "pygments_lexer": "ipython3",
   "version": "3.7.3"
  }
 },
 "nbformat": 4,
 "nbformat_minor": 2
}
