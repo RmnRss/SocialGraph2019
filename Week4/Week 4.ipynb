{
 "cells": [
  {
   "cell_type": "markdown",
   "metadata": {},
   "source": [
    "# Prelude: Regular expressions"
   ]
  },
  {
   "cell_type": "markdown",
   "metadata": {},
   "source": [
    "### Tutorial"
   ]
  },
  {
   "cell_type": "markdown",
   "metadata": {},
   "source": [
    "##### re module"
   ]
  },
  {
   "cell_type": "code",
   "execution_count": 1,
   "metadata": {},
   "outputs": [],
   "source": [
    "import re"
   ]
  },
  {
   "cell_type": "markdown",
   "metadata": {},
   "source": [
    "match = re.search(pat, str) --> Looks for pattern \"pat\" in string \"str\""
   ]
  },
  {
   "cell_type": "markdown",
   "metadata": {},
   "source": [
    "##### Example"
   ]
  },
  {
   "cell_type": "code",
   "execution_count": 2,
   "metadata": {},
   "outputs": [
    {
     "name": "stdout",
     "output_type": "stream",
     "text": [
      "found word:cat\n"
     ]
    }
   ],
   "source": [
    "str = 'an example word:cat!! word:tch'\n",
    "match = re.search(r'word:\\w\\w\\w', str)\n",
    "# If-statement after search() tests if it succeeded\n",
    "if match:\n",
    "  print('found', match.group()) ## 'found word:cat'\n",
    "else:\n",
    "  print ('did not find')"
   ]
  },
  {
   "cell_type": "markdown",
   "metadata": {},
   "source": [
    "The 'r' at the start of the pattern string designates a python \"raw\" string which passes through backslashes without change"
   ]
  },
  {
   "cell_type": "code",
   "execution_count": 3,
   "metadata": {},
   "outputs": [
    {
     "name": "stdout",
     "output_type": "stream",
     "text": [
      "found 123\n"
     ]
    }
   ],
   "source": [
    "str = 'what do you call a pig with three eyes? piiig! p123g'\n",
    "match = re.search(r'\\d\\d\\d', str)\n",
    "\n",
    "# If-statement after search() tests if it succeeded\n",
    "if match:\n",
    "  print('found', match.group()) ## 'found word:cat'\n",
    "else:\n",
    "  print ('did not find')"
   ]
  },
  {
   "cell_type": "markdown",
   "metadata": {},
   "source": [
    "##### Repetition"
   ]
  },
  {
   "cell_type": "markdown",
   "metadata": {},
   "source": [
    "\\+ -- 1 or more occurrences of the pattern to its left, e.g. 'i+' = one or more i's\n",
    "\n",
    "\\* -- 0 or more occurrences of the pattern to its left\n",
    "\n",
    "? -- match 0 or 1 occurrences of the pattern to its left\n",
    "\n",
    "^ -- start of a word"
   ]
  },
  {
   "cell_type": "code",
   "execution_count": 4,
   "metadata": {},
   "outputs": [
    {
     "name": "stdout",
     "output_type": "stream",
     "text": [
      "found pi\n"
     ]
    }
   ],
   "source": [
    "str = 'what do you call a pig with three eyes? piiig! p123g'\n",
    "match = re.search(r'pi+', str)\n",
    "\n",
    "# If-statement after search() tests if it succeeded\n",
    "if match:\n",
    "  print('found', match.group()) ## 'found word:cat'\n",
    "else:\n",
    "  print ('did not find')"
   ]
  },
  {
   "cell_type": "markdown",
   "metadata": {},
   "source": [
    "##### Find email"
   ]
  },
  {
   "cell_type": "markdown",
   "metadata": {},
   "source": [
    "\\[\\w.-]+ means that there can be any '-' '.' or character in any order. And we add the + to say that there can be any number of those."
   ]
  },
  {
   "cell_type": "code",
   "execution_count": 5,
   "metadata": {},
   "outputs": [
    {
     "name": "stdout",
     "output_type": "stream",
     "text": [
      "tanguy-lebg.72@google.com\n"
     ]
    }
   ],
   "source": [
    "str = 'purple tanguy-lebg.72@google.com monkey dishwasher'\n",
    "match = re.search(r'[\\w.-]+@[\\w.-]+', str)\n",
    "\n",
    "if match:\n",
    "    print(match.group())  "
   ]
  },
  {
   "cell_type": "markdown",
   "metadata": {},
   "source": [
    "##### Group extraction"
   ]
  },
  {
   "cell_type": "markdown",
   "metadata": {},
   "source": [
    "use parenthesis to separate match into groups"
   ]
  },
  {
   "cell_type": "code",
   "execution_count": 6,
   "metadata": {},
   "outputs": [
    {
     "name": "stdout",
     "output_type": "stream",
     "text": [
      "alice-b@google.com\n",
      "alice-b\n",
      "google.com\n"
     ]
    }
   ],
   "source": [
    "str = 'purple alice-b@google.com monkey dishwasher'\n",
    "match = re.search(r'([\\w.-]+)@([\\w.-]+)', str)\n",
    "if match:\n",
    "    print(match.group())   ## 'alice-b@google.com' (the whole match)\n",
    "    print(match.group(1))  ## 'alice-b' (the username, group 1)\n",
    "    print(match.group(2))  ## 'google.com' (the host, group 2)"
   ]
  },
  {
   "cell_type": "markdown",
   "metadata": {},
   "source": [
    "##### findall"
   ]
  },
  {
   "cell_type": "markdown",
   "metadata": {},
   "source": [
    "findall : finds all the matches and returns a list of strings"
   ]
  },
  {
   "cell_type": "code",
   "execution_count": 7,
   "metadata": {},
   "outputs": [
    {
     "name": "stdout",
     "output_type": "stream",
     "text": [
      "alice@google.com\n",
      "bob@abc.com\n"
     ]
    }
   ],
   "source": [
    "## Suppose we have a text with many email addresses\n",
    "str = 'purple alice@google.com, blah monkey bob@abc.com blah dishwasher'\n",
    "\n",
    "## Here re.findall() returns a list of all the found email strings\n",
    "emails = re.findall(r'[\\w\\.-]+@[\\w\\.-]+', str) ## ['alice@google.com', 'bob@abc.com']\n",
    "for email in emails:\n",
    "  # do something with each found email string\n",
    "  print(email)"
   ]
  },
  {
   "cell_type": "markdown",
   "metadata": {},
   "source": [
    "in a file let findall iterate for us"
   ]
  },
  {
   "cell_type": "code",
   "execution_count": 8,
   "metadata": {},
   "outputs": [
    {
     "name": "stdout",
     "output_type": "stream",
     "text": [
      "jeanmiche@coucou.fr\n",
      "salut@salut.fr\n",
      "tanguylebg@bg.fr\n"
     ]
    }
   ],
   "source": [
    "# Open file\n",
    "f = open('./exercices/text.txt', 'r')\n",
    "# Feed the file text into findall(); it returns a list of all the found strings\n",
    "strings = re.findall(r'[\\w\\.-]+@[\\w\\.-]+', f.read())\n",
    "for string in strings:\n",
    "  # do something with each found email string\n",
    "  print(string)"
   ]
  },
  {
   "cell_type": "markdown",
   "metadata": {},
   "source": [
    "for groups"
   ]
  },
  {
   "cell_type": "markdown",
   "metadata": {},
   "source": [
    "findall will create a list of tuple"
   ]
  },
  {
   "cell_type": "code",
   "execution_count": 9,
   "metadata": {},
   "outputs": [
    {
     "name": "stdout",
     "output_type": "stream",
     "text": [
      "[('alice', 'google.com'), ('bob', 'abc.com')]\n",
      "alice\n",
      "google.com\n",
      "bob\n",
      "abc.com\n"
     ]
    }
   ],
   "source": [
    "str = 'purple alice@google.com, blah monkey bob@abc.com blah dishwasher'\n",
    "tuples = re.findall(r'([\\w\\.-]+)@([\\w\\.-]+)', str)\n",
    "print(tuples)  ## [('alice', 'google.com'), ('bob', 'abc.com')]\n",
    "for tuple in tuples:\n",
    "    print(tuple[0])  ## username\n",
    "    print(tuple[1])  ## host"
   ]
  },
  {
   "cell_type": "code",
   "execution_count": null,
   "metadata": {},
   "outputs": [],
   "source": []
  },
  {
   "cell_type": "markdown",
   "metadata": {},
   "source": [
    "### What are regular expressions ?"
   ]
  },
  {
   "cell_type": "markdown",
   "metadata": {},
   "source": [
    "Regular expressions forms a langage that is use to find patterns in texts."
   ]
  },
  {
   "cell_type": "markdown",
   "metadata": {},
   "source": [
    "### Provide an example of a regex to match 4 digits numbers (by this, I mean precisely 4 digits, you should not match any part of numbers with e.g. 5 digits)."
   ]
  },
  {
   "cell_type": "code",
   "execution_count": 10,
   "metadata": {},
   "outputs": [
    {
     "name": "stdout",
     "output_type": "stream",
     "text": [
      "1234\n",
      "9999\n"
     ]
    }
   ],
   "source": [
    "f = open('./exercices/test.txt', 'r')\n",
    "\n",
    "strings = re.findall(r'\\b\\d{4}\\b', f.read())\n",
    "\n",
    "for string in strings:\n",
    "    print(string)"
   ]
  },
  {
   "cell_type": "markdown",
   "metadata": {},
   "source": [
    "### Provide an example of a regex to match words starting with \"super\". Show that it works on the test-text."
   ]
  },
  {
   "cell_type": "code",
   "execution_count": 11,
   "metadata": {},
   "outputs": [
    {
     "name": "stdout",
     "output_type": "stream",
     "text": [
      "[[drinking vinegar]]\n",
      "[[gentrify]]\n",
      "[[hashtag]]\n",
      "[[Bicycle|Bicycle(two-wheeled type)]]\n",
      "[[Pitchfork|Pitchfork Magazine]]\n"
     ]
    }
   ],
   "source": [
    "f = open('./exercices/wiki-test.txt', 'r')\n",
    "\n",
    "# simple links : \\[\\[[\\w-]+\\]\\]\n",
    "# other links : \\[\\[[\\w\\s\\(\\)-]+\\|[\\w\\s\\(\\)-]+\\]\\]\n",
    "\n",
    "strings = re.findall(r'\\[\\[[\\w\\s\\(\\)\\-\\|]+\\]\\]', f.read())\n",
    "\n",
    "for string in strings:\n",
    "    print(string)"
   ]
  },
  {
   "cell_type": "markdown",
   "metadata": {},
   "source": [
    "# Prelude part 2: Pandas DataFrames"
   ]
  },
  {
   "cell_type": "markdown",
   "metadata": {},
   "source": [
    "### Importing data"
   ]
  },
  {
   "cell_type": "code",
   "execution_count": 6,
   "metadata": {},
   "outputs": [],
   "source": [
    "import numpy as np\n",
    "import pandas as pd"
   ]
  },
  {
   "cell_type": "code",
   "execution_count": 7,
   "metadata": {},
   "outputs": [],
   "source": [
    "df_113 = pd.read_csv('./houses/H113.csv', encoding = 'utf-8')\n",
    "df_113['Congress Number'] = 113\n",
    "\n",
    "df_114 = pd.read_csv('./houses/H114.csv')\n",
    "df_114['Congress Number'] = 114\n",
    "\n",
    "df_115 = pd.read_csv('./houses/H115.csv')\n",
    "df_115['Congress Number'] = 115"
   ]
  },
  {
   "cell_type": "code",
   "execution_count": 14,
   "metadata": {},
   "outputs": [],
   "source": [
    "# Gather all dataframes together and resets the index\n",
    "# drop = True get rid of the old index\n",
    "congress_members = pd.concat([df_113, df_114, df_115]).reset_index(drop = True)"
   ]
  },
  {
   "cell_type": "code",
   "execution_count": 15,
   "metadata": {},
   "outputs": [
    {
     "data": {
      "text/html": [
       "<div>\n",
       "<style scoped>\n",
       "    .dataframe tbody tr th:only-of-type {\n",
       "        vertical-align: middle;\n",
       "    }\n",
       "\n",
       "    .dataframe tbody tr th {\n",
       "        vertical-align: top;\n",
       "    }\n",
       "\n",
       "    .dataframe thead th {\n",
       "        text-align: right;\n",
       "    }\n",
       "</style>\n",
       "<table border=\"1\" class=\"dataframe\">\n",
       "  <thead>\n",
       "    <tr style=\"text-align: right;\">\n",
       "      <th></th>\n",
       "      <th>WikiPageName</th>\n",
       "      <th>Party</th>\n",
       "      <th>State</th>\n",
       "      <th>Congress Number</th>\n",
       "    </tr>\n",
       "  </thead>\n",
       "  <tbody>\n",
       "    <tr>\n",
       "      <th>0</th>\n",
       "      <td>John_Dingell</td>\n",
       "      <td>Democratic</td>\n",
       "      <td>Michigan</td>\n",
       "      <td>113</td>\n",
       "    </tr>\n",
       "    <tr>\n",
       "      <th>1</th>\n",
       "      <td>John_Conyers</td>\n",
       "      <td>Democratic</td>\n",
       "      <td>Michigan</td>\n",
       "      <td>113</td>\n",
       "    </tr>\n",
       "    <tr>\n",
       "      <th>2</th>\n",
       "      <td>Charles_Rangel</td>\n",
       "      <td>Democratic</td>\n",
       "      <td>New York</td>\n",
       "      <td>113</td>\n",
       "    </tr>\n",
       "    <tr>\n",
       "      <th>3</th>\n",
       "      <td>Bill_Young</td>\n",
       "      <td>Republican</td>\n",
       "      <td>Florida</td>\n",
       "      <td>113</td>\n",
       "    </tr>\n",
       "    <tr>\n",
       "      <th>4</th>\n",
       "      <td>Don_Young</td>\n",
       "      <td>Republican</td>\n",
       "      <td>Alaska</td>\n",
       "      <td>113</td>\n",
       "    </tr>\n",
       "    <tr>\n",
       "      <th>5</th>\n",
       "      <td>George_Miller_(California_politician)</td>\n",
       "      <td>Democratic</td>\n",
       "      <td>California</td>\n",
       "      <td>113</td>\n",
       "    </tr>\n",
       "    <tr>\n",
       "      <th>6</th>\n",
       "      <td>Henry_Waxman</td>\n",
       "      <td>Democratic</td>\n",
       "      <td>California</td>\n",
       "      <td>113</td>\n",
       "    </tr>\n",
       "    <tr>\n",
       "      <th>7</th>\n",
       "      <td>Ed_Markey</td>\n",
       "      <td>Democratic</td>\n",
       "      <td>Massachusetts</td>\n",
       "      <td>113</td>\n",
       "    </tr>\n",
       "    <tr>\n",
       "      <th>8</th>\n",
       "      <td>Nick_Rahall</td>\n",
       "      <td>Democratic</td>\n",
       "      <td>West Virginia</td>\n",
       "      <td>113</td>\n",
       "    </tr>\n",
       "    <tr>\n",
       "      <th>9</th>\n",
       "      <td>Jim_Sensenbrenner</td>\n",
       "      <td>Republican</td>\n",
       "      <td>Wisconsin</td>\n",
       "      <td>113</td>\n",
       "    </tr>\n",
       "    <tr>\n",
       "      <th>10</th>\n",
       "      <td>Tom_Petri</td>\n",
       "      <td>Republican</td>\n",
       "      <td>Wisconsin</td>\n",
       "      <td>113</td>\n",
       "    </tr>\n",
       "    <tr>\n",
       "      <th>11</th>\n",
       "      <td>Ralph_Hall</td>\n",
       "      <td>Republican</td>\n",
       "      <td>Texas</td>\n",
       "      <td>113</td>\n",
       "    </tr>\n",
       "    <tr>\n",
       "      <th>12</th>\n",
       "      <td>Hal_Rogers</td>\n",
       "      <td>Republican</td>\n",
       "      <td>Kentucky</td>\n",
       "      <td>113</td>\n",
       "    </tr>\n",
       "    <tr>\n",
       "      <th>13</th>\n",
       "      <td>Chris_Smith_(New_Jersey_politician)</td>\n",
       "      <td>Republican</td>\n",
       "      <td>New Jersey</td>\n",
       "      <td>113</td>\n",
       "    </tr>\n",
       "    <tr>\n",
       "      <th>14</th>\n",
       "      <td>Frank_Wolf_(politician)</td>\n",
       "      <td>Republican</td>\n",
       "      <td>Virginia</td>\n",
       "      <td>113</td>\n",
       "    </tr>\n",
       "    <tr>\n",
       "      <th>15</th>\n",
       "      <td>Steny_Hoyer</td>\n",
       "      <td>Democratic</td>\n",
       "      <td>Maryland</td>\n",
       "      <td>113</td>\n",
       "    </tr>\n",
       "    <tr>\n",
       "      <th>16</th>\n",
       "      <td>Marcy_Kaptur</td>\n",
       "      <td>Democratic</td>\n",
       "      <td>Ohio</td>\n",
       "      <td>113</td>\n",
       "    </tr>\n",
       "    <tr>\n",
       "      <th>17</th>\n",
       "      <td>Sander_Levin</td>\n",
       "      <td>Democratic</td>\n",
       "      <td>Michigan</td>\n",
       "      <td>113</td>\n",
       "    </tr>\n",
       "    <tr>\n",
       "      <th>18</th>\n",
       "      <td>Joe_Barton</td>\n",
       "      <td>Republican</td>\n",
       "      <td>Texas</td>\n",
       "      <td>113</td>\n",
       "    </tr>\n",
       "    <tr>\n",
       "      <th>19</th>\n",
       "      <td>Howard_Coble</td>\n",
       "      <td>Republican</td>\n",
       "      <td>North Carolina</td>\n",
       "      <td>113</td>\n",
       "    </tr>\n",
       "    <tr>\n",
       "      <th>20</th>\n",
       "      <td>Pete_Visclosky</td>\n",
       "      <td>Democratic</td>\n",
       "      <td>Indiana</td>\n",
       "      <td>113</td>\n",
       "    </tr>\n",
       "    <tr>\n",
       "      <th>21</th>\n",
       "      <td>Peter_DeFazio</td>\n",
       "      <td>Democratic</td>\n",
       "      <td>Oregon</td>\n",
       "      <td>113</td>\n",
       "    </tr>\n",
       "    <tr>\n",
       "      <th>22</th>\n",
       "      <td>John_Lewis_(civil_rights_leader)</td>\n",
       "      <td>Democratic</td>\n",
       "      <td>Georgia</td>\n",
       "      <td>113</td>\n",
       "    </tr>\n",
       "    <tr>\n",
       "      <th>23</th>\n",
       "      <td>Louise_Slaughter</td>\n",
       "      <td>Democratic</td>\n",
       "      <td>New York</td>\n",
       "      <td>113</td>\n",
       "    </tr>\n",
       "    <tr>\n",
       "      <th>24</th>\n",
       "      <td>Lamar_Smith</td>\n",
       "      <td>Republican</td>\n",
       "      <td>Texas</td>\n",
       "      <td>113</td>\n",
       "    </tr>\n",
       "    <tr>\n",
       "      <th>25</th>\n",
       "      <td>Fred_Upton</td>\n",
       "      <td>Republican</td>\n",
       "      <td>Michigan</td>\n",
       "      <td>113</td>\n",
       "    </tr>\n",
       "    <tr>\n",
       "      <th>26</th>\n",
       "      <td>Nancy_Pelosi</td>\n",
       "      <td>Democratic</td>\n",
       "      <td>California</td>\n",
       "      <td>113</td>\n",
       "    </tr>\n",
       "    <tr>\n",
       "      <th>27</th>\n",
       "      <td>Frank_Pallone</td>\n",
       "      <td>Democratic</td>\n",
       "      <td>New Jersey</td>\n",
       "      <td>113</td>\n",
       "    </tr>\n",
       "    <tr>\n",
       "      <th>28</th>\n",
       "      <td>Jimmy_Duncan_(politician)</td>\n",
       "      <td>Republican</td>\n",
       "      <td>Tennessee</td>\n",
       "      <td>113</td>\n",
       "    </tr>\n",
       "    <tr>\n",
       "      <th>29</th>\n",
       "      <td>Eliot_Engel</td>\n",
       "      <td>Democratic</td>\n",
       "      <td>New York</td>\n",
       "      <td>113</td>\n",
       "    </tr>\n",
       "    <tr>\n",
       "      <th>...</th>\n",
       "      <td>...</td>\n",
       "      <td>...</td>\n",
       "      <td>...</td>\n",
       "      <td>...</td>\n",
       "    </tr>\n",
       "    <tr>\n",
       "      <th>1301</th>\n",
       "      <td>Raja_Krishnamoorthi</td>\n",
       "      <td>Democratic</td>\n",
       "      <td>Illinois</td>\n",
       "      <td>115</td>\n",
       "    </tr>\n",
       "    <tr>\n",
       "      <th>1302</th>\n",
       "      <td>David_Kustoff</td>\n",
       "      <td>Republican</td>\n",
       "      <td>Tennessee</td>\n",
       "      <td>115</td>\n",
       "    </tr>\n",
       "    <tr>\n",
       "      <th>1303</th>\n",
       "      <td>Al_Lawson</td>\n",
       "      <td>Democratic</td>\n",
       "      <td>Florida</td>\n",
       "      <td>115</td>\n",
       "    </tr>\n",
       "    <tr>\n",
       "      <th>1304</th>\n",
       "      <td>Jason_Lewis_(Minnesota_politician)</td>\n",
       "      <td>Republican</td>\n",
       "      <td>Minnesota</td>\n",
       "      <td>115</td>\n",
       "    </tr>\n",
       "    <tr>\n",
       "      <th>1305</th>\n",
       "      <td>Roger_Marshall_(politician)</td>\n",
       "      <td>Republican</td>\n",
       "      <td>Kansas</td>\n",
       "      <td>115</td>\n",
       "    </tr>\n",
       "    <tr>\n",
       "      <th>1306</th>\n",
       "      <td>Brian_Mast</td>\n",
       "      <td>Republican</td>\n",
       "      <td>Florida</td>\n",
       "      <td>115</td>\n",
       "    </tr>\n",
       "    <tr>\n",
       "      <th>1307</th>\n",
       "      <td>Donald_McEachin</td>\n",
       "      <td>Democratic</td>\n",
       "      <td>Virginia</td>\n",
       "      <td>115</td>\n",
       "    </tr>\n",
       "    <tr>\n",
       "      <th>1308</th>\n",
       "      <td>Paul_Mitchell_(politician)</td>\n",
       "      <td>Republican</td>\n",
       "      <td>Michigan</td>\n",
       "      <td>115</td>\n",
       "    </tr>\n",
       "    <tr>\n",
       "      <th>1309</th>\n",
       "      <td>Stephanie_Murphy</td>\n",
       "      <td>Democratic</td>\n",
       "      <td>Florida</td>\n",
       "      <td>115</td>\n",
       "    </tr>\n",
       "    <tr>\n",
       "      <th>1310</th>\n",
       "      <td>Tom_O'Halleran</td>\n",
       "      <td>Democratic</td>\n",
       "      <td>Arizona</td>\n",
       "      <td>115</td>\n",
       "    </tr>\n",
       "    <tr>\n",
       "      <th>1311</th>\n",
       "      <td>Jimmy_Panetta</td>\n",
       "      <td>Democratic</td>\n",
       "      <td>California</td>\n",
       "      <td>115</td>\n",
       "    </tr>\n",
       "    <tr>\n",
       "      <th>1312</th>\n",
       "      <td>Jamie_Raskin</td>\n",
       "      <td>Democratic</td>\n",
       "      <td>Maryland</td>\n",
       "      <td>115</td>\n",
       "    </tr>\n",
       "    <tr>\n",
       "      <th>1313</th>\n",
       "      <td>Francis_Rooney</td>\n",
       "      <td>Republican</td>\n",
       "      <td>Florida</td>\n",
       "      <td>115</td>\n",
       "    </tr>\n",
       "    <tr>\n",
       "      <th>1314</th>\n",
       "      <td>Jacky_Rosen</td>\n",
       "      <td>Democratic</td>\n",
       "      <td>Nevada</td>\n",
       "      <td>115</td>\n",
       "    </tr>\n",
       "    <tr>\n",
       "      <th>1315</th>\n",
       "      <td>John_Rutherford_(Florida_politician)</td>\n",
       "      <td>Republican</td>\n",
       "      <td>Florida</td>\n",
       "      <td>115</td>\n",
       "    </tr>\n",
       "    <tr>\n",
       "      <th>1316</th>\n",
       "      <td>Lloyd_Smucker</td>\n",
       "      <td>Republican</td>\n",
       "      <td>Pennsylvania</td>\n",
       "      <td>115</td>\n",
       "    </tr>\n",
       "    <tr>\n",
       "      <th>1317</th>\n",
       "      <td>Darren_Soto</td>\n",
       "      <td>Democratic</td>\n",
       "      <td>Florida</td>\n",
       "      <td>115</td>\n",
       "    </tr>\n",
       "    <tr>\n",
       "      <th>1318</th>\n",
       "      <td>Thomas_Suozzi</td>\n",
       "      <td>Democratic</td>\n",
       "      <td>New York</td>\n",
       "      <td>115</td>\n",
       "    </tr>\n",
       "    <tr>\n",
       "      <th>1319</th>\n",
       "      <td>Scott_Taylor_(politician)</td>\n",
       "      <td>Republican</td>\n",
       "      <td>Virginia</td>\n",
       "      <td>115</td>\n",
       "    </tr>\n",
       "    <tr>\n",
       "      <th>1320</th>\n",
       "      <td>Claudia_Tenney</td>\n",
       "      <td>Republican</td>\n",
       "      <td>New York</td>\n",
       "      <td>115</td>\n",
       "    </tr>\n",
       "    <tr>\n",
       "      <th>1321</th>\n",
       "      <td>Ron_Estes</td>\n",
       "      <td>Republican</td>\n",
       "      <td>Kansas</td>\n",
       "      <td>115</td>\n",
       "    </tr>\n",
       "    <tr>\n",
       "      <th>1322</th>\n",
       "      <td>Greg_Gianforte</td>\n",
       "      <td>Republican</td>\n",
       "      <td>Montana</td>\n",
       "      <td>115</td>\n",
       "    </tr>\n",
       "    <tr>\n",
       "      <th>1323</th>\n",
       "      <td>Jimmy_Gomez</td>\n",
       "      <td>Democratic</td>\n",
       "      <td>California</td>\n",
       "      <td>115</td>\n",
       "    </tr>\n",
       "    <tr>\n",
       "      <th>1324</th>\n",
       "      <td>Karen_Handel</td>\n",
       "      <td>Republican</td>\n",
       "      <td>Georgia</td>\n",
       "      <td>115</td>\n",
       "    </tr>\n",
       "    <tr>\n",
       "      <th>1325</th>\n",
       "      <td>Ralph_Norman</td>\n",
       "      <td>Republican</td>\n",
       "      <td>South Carolina</td>\n",
       "      <td>115</td>\n",
       "    </tr>\n",
       "    <tr>\n",
       "      <th>1326</th>\n",
       "      <td>John_Curtis_(American_politician)</td>\n",
       "      <td>Republican</td>\n",
       "      <td>Utah</td>\n",
       "      <td>115</td>\n",
       "    </tr>\n",
       "    <tr>\n",
       "      <th>1327</th>\n",
       "      <td>Conor_Lamb</td>\n",
       "      <td>Democratic</td>\n",
       "      <td>Pennsylvania</td>\n",
       "      <td>115</td>\n",
       "    </tr>\n",
       "    <tr>\n",
       "      <th>1328</th>\n",
       "      <td>Debbie_Lesko</td>\n",
       "      <td>Republican</td>\n",
       "      <td>Arizona</td>\n",
       "      <td>115</td>\n",
       "    </tr>\n",
       "    <tr>\n",
       "      <th>1329</th>\n",
       "      <td>Michael_Cloud</td>\n",
       "      <td>Republican</td>\n",
       "      <td>Texas</td>\n",
       "      <td>115</td>\n",
       "    </tr>\n",
       "    <tr>\n",
       "      <th>1330</th>\n",
       "      <td>Troy_Balderson</td>\n",
       "      <td>Republican</td>\n",
       "      <td>Ohio</td>\n",
       "      <td>115</td>\n",
       "    </tr>\n",
       "  </tbody>\n",
       "</table>\n",
       "<p>1331 rows × 4 columns</p>\n",
       "</div>"
      ],
      "text/plain": [
       "                               WikiPageName       Party           State  \\\n",
       "0                              John_Dingell  Democratic        Michigan   \n",
       "1                              John_Conyers  Democratic        Michigan   \n",
       "2                            Charles_Rangel  Democratic        New York   \n",
       "3                                Bill_Young  Republican         Florida   \n",
       "4                                 Don_Young  Republican          Alaska   \n",
       "5     George_Miller_(California_politician)  Democratic      California   \n",
       "6                              Henry_Waxman  Democratic      California   \n",
       "7                                 Ed_Markey  Democratic   Massachusetts   \n",
       "8                               Nick_Rahall  Democratic   West Virginia   \n",
       "9                         Jim_Sensenbrenner  Republican       Wisconsin   \n",
       "10                                Tom_Petri  Republican       Wisconsin   \n",
       "11                               Ralph_Hall  Republican           Texas   \n",
       "12                               Hal_Rogers  Republican        Kentucky   \n",
       "13      Chris_Smith_(New_Jersey_politician)  Republican      New Jersey   \n",
       "14                  Frank_Wolf_(politician)  Republican        Virginia   \n",
       "15                              Steny_Hoyer  Democratic        Maryland   \n",
       "16                             Marcy_Kaptur  Democratic            Ohio   \n",
       "17                             Sander_Levin  Democratic        Michigan   \n",
       "18                               Joe_Barton  Republican           Texas   \n",
       "19                             Howard_Coble  Republican  North Carolina   \n",
       "20                           Pete_Visclosky  Democratic         Indiana   \n",
       "21                            Peter_DeFazio  Democratic          Oregon   \n",
       "22         John_Lewis_(civil_rights_leader)  Democratic         Georgia   \n",
       "23                         Louise_Slaughter  Democratic        New York   \n",
       "24                              Lamar_Smith  Republican           Texas   \n",
       "25                               Fred_Upton  Republican        Michigan   \n",
       "26                             Nancy_Pelosi  Democratic      California   \n",
       "27                            Frank_Pallone  Democratic      New Jersey   \n",
       "28                Jimmy_Duncan_(politician)  Republican       Tennessee   \n",
       "29                              Eliot_Engel  Democratic        New York   \n",
       "...                                     ...         ...             ...   \n",
       "1301                    Raja_Krishnamoorthi  Democratic        Illinois   \n",
       "1302                          David_Kustoff  Republican       Tennessee   \n",
       "1303                              Al_Lawson  Democratic         Florida   \n",
       "1304     Jason_Lewis_(Minnesota_politician)  Republican       Minnesota   \n",
       "1305            Roger_Marshall_(politician)  Republican          Kansas   \n",
       "1306                             Brian_Mast  Republican         Florida   \n",
       "1307                        Donald_McEachin  Democratic        Virginia   \n",
       "1308             Paul_Mitchell_(politician)  Republican        Michigan   \n",
       "1309                       Stephanie_Murphy  Democratic         Florida   \n",
       "1310                         Tom_O'Halleran  Democratic         Arizona   \n",
       "1311                          Jimmy_Panetta  Democratic      California   \n",
       "1312                           Jamie_Raskin  Democratic        Maryland   \n",
       "1313                         Francis_Rooney  Republican         Florida   \n",
       "1314                            Jacky_Rosen  Democratic          Nevada   \n",
       "1315   John_Rutherford_(Florida_politician)  Republican         Florida   \n",
       "1316                          Lloyd_Smucker  Republican    Pennsylvania   \n",
       "1317                            Darren_Soto  Democratic         Florida   \n",
       "1318                          Thomas_Suozzi  Democratic        New York   \n",
       "1319              Scott_Taylor_(politician)  Republican        Virginia   \n",
       "1320                         Claudia_Tenney  Republican        New York   \n",
       "1321                              Ron_Estes  Republican          Kansas   \n",
       "1322                         Greg_Gianforte  Republican         Montana   \n",
       "1323                            Jimmy_Gomez  Democratic      California   \n",
       "1324                           Karen_Handel  Republican         Georgia   \n",
       "1325                           Ralph_Norman  Republican  South Carolina   \n",
       "1326      John_Curtis_(American_politician)  Republican            Utah   \n",
       "1327                             Conor_Lamb  Democratic    Pennsylvania   \n",
       "1328                           Debbie_Lesko  Republican         Arizona   \n",
       "1329                          Michael_Cloud  Republican           Texas   \n",
       "1330                         Troy_Balderson  Republican            Ohio   \n",
       "\n",
       "      Congress Number  \n",
       "0                 113  \n",
       "1                 113  \n",
       "2                 113  \n",
       "3                 113  \n",
       "4                 113  \n",
       "5                 113  \n",
       "6                 113  \n",
       "7                 113  \n",
       "8                 113  \n",
       "9                 113  \n",
       "10                113  \n",
       "11                113  \n",
       "12                113  \n",
       "13                113  \n",
       "14                113  \n",
       "15                113  \n",
       "16                113  \n",
       "17                113  \n",
       "18                113  \n",
       "19                113  \n",
       "20                113  \n",
       "21                113  \n",
       "22                113  \n",
       "23                113  \n",
       "24                113  \n",
       "25                113  \n",
       "26                113  \n",
       "27                113  \n",
       "28                113  \n",
       "29                113  \n",
       "...               ...  \n",
       "1301              115  \n",
       "1302              115  \n",
       "1303              115  \n",
       "1304              115  \n",
       "1305              115  \n",
       "1306              115  \n",
       "1307              115  \n",
       "1308              115  \n",
       "1309              115  \n",
       "1310              115  \n",
       "1311              115  \n",
       "1312              115  \n",
       "1313              115  \n",
       "1314              115  \n",
       "1315              115  \n",
       "1316              115  \n",
       "1317              115  \n",
       "1318              115  \n",
       "1319              115  \n",
       "1320              115  \n",
       "1321              115  \n",
       "1322              115  \n",
       "1323              115  \n",
       "1324              115  \n",
       "1325              115  \n",
       "1326              115  \n",
       "1327              115  \n",
       "1328              115  \n",
       "1329              115  \n",
       "1330              115  \n",
       "\n",
       "[1331 rows x 4 columns]"
      ]
     },
     "execution_count": 15,
     "metadata": {},
     "output_type": "execute_result"
    }
   ],
   "source": [
    "congress_members"
   ]
  },
  {
   "cell_type": "markdown",
   "metadata": {},
   "source": [
    "### Number of member appearing in different congresses"
   ]
  },
  {
   "cell_type": "code",
   "execution_count": 16,
   "metadata": {},
   "outputs": [],
   "source": [
    "# Which member appear in multiple congresses\n",
    "\n",
    "groups = congress_members.groupby('WikiPageName')"
   ]
  },
  {
   "cell_type": "code",
   "execution_count": 17,
   "metadata": {},
   "outputs": [
    {
     "name": "stdout",
     "output_type": "stream",
     "text": [
      "     WikiPageName       Party     State  Congress Number\n",
      "260  Aaron_Schock  Republican  Illinois              113\n",
      "660  Aaron_Schock  Republican  Illinois              114\n"
     ]
    }
   ],
   "source": [
    "for key, group in groups:\n",
    "    print(group)\n",
    "    break;"
   ]
  },
  {
   "cell_type": "code",
   "execution_count": 18,
   "metadata": {},
   "outputs": [],
   "source": [
    "# Checks the size of the group to see the number of time they appear in each congress\n",
    "times_in_congress = groups.size().sort_values()"
   ]
  },
  {
   "cell_type": "code",
   "execution_count": 19,
   "metadata": {},
   "outputs": [],
   "source": [
    "# Using group by to group people having the same number of appearance together \n",
    "# The size helps ordering the results\n",
    "result = times_in_congress.groupby(times_in_congress).size()"
   ]
  },
  {
   "cell_type": "code",
   "execution_count": 20,
   "metadata": {},
   "outputs": [],
   "source": [
    "import matplotlib.pylab as plt"
   ]
  },
  {
   "cell_type": "code",
   "execution_count": 21,
   "metadata": {},
   "outputs": [
    {
     "data": {
      "image/png": "[encoded data removed]",
      "text/plain": [
       "<Figure size 432x288 with 1 Axes>"
      ]
     },
     "metadata": {
      "needs_background": "light"
     },
     "output_type": "display_data"
    }
   ],
   "source": [
    "# Plot a histogram\n",
    "\n",
    "result.plot('bar')\n",
    "plt.title(\"Number of congressmen appearing in mutliple congresses\")\n",
    "plt.show()"
   ]
  },
  {
   "cell_type": "markdown",
   "metadata": {},
   "source": [
    "### Evolution of the number of congressmen"
   ]
  },
  {
   "cell_type": "code",
   "execution_count": 22,
   "metadata": {},
   "outputs": [],
   "source": [
    "houses = congress_members.groupby('Congress Number').size()"
   ]
  },
  {
   "cell_type": "code",
   "execution_count": 23,
   "metadata": {},
   "outputs": [
    {
     "data": {
      "image/png": "[encoded data removed]",
      "text/plain": [
       "<Figure size 432x288 with 1 Axes>"
      ]
     },
     "metadata": {
      "needs_background": "light"
     },
     "output_type": "display_data"
    }
   ],
   "source": [
    "houses.plot()\n",
    "plt.title(\"Evolution of the number of congress member from 2015 to 2019\")\n",
    "plt.ylabel(\"Number of congressmen\")\n",
    "plt.show()"
   ]
  },
  {
   "cell_type": "markdown",
   "metadata": {},
   "source": [
    "Yes this development overtime is to be expected as the number of congressmen is around the same over the years. The congressmen might change but not the number of them"
   ]
  },
  {
   "cell_type": "markdown",
   "metadata": {},
   "source": [
    "### State Representation"
   ]
  },
  {
   "cell_type": "code",
   "execution_count": 24,
   "metadata": {},
   "outputs": [],
   "source": [
    "group_states = congress_members.groupby('State').size()"
   ]
  },
  {
   "cell_type": "code",
   "execution_count": 25,
   "metadata": {},
   "outputs": [
    {
     "data": {
      "image/png": "[encoded data removed]",
      "text/plain": [
       "<Figure size 800x480 with 1 Axes>"
      ]
     },
     "metadata": {},
     "output_type": "display_data"
    }
   ],
   "source": [
    "from matplotlib.pyplot import figure\n",
    "\n",
    "figure(num=None, figsize=(10, 6), dpi=80, facecolor='w', edgecolor='k')\n",
    "\n",
    "group_states.plot('bar')\n",
    "\n",
    "plt.title(\"Repartition of congress members by state\")\n",
    "plt.ylabel(\"Number of congressmen\")\n",
    "plt.show()"
   ]
  },
  {
   "cell_type": "markdown",
   "metadata": {},
   "source": [
    "### Composition over time"
   ]
  },
  {
   "cell_type": "code",
   "execution_count": 26,
   "metadata": {},
   "outputs": [],
   "source": [
    "gp = congress_members.groupby(['Congress Number','Party']).size()"
   ]
  },
  {
   "cell_type": "code",
   "execution_count": 27,
   "metadata": {},
   "outputs": [
    {
     "data": {
      "image/png": "[encoded data removed]",
      "text/plain": [
       "<Figure size 432x288 with 1 Axes>"
      ]
     },
     "metadata": {
      "needs_background": "light"
     },
     "output_type": "display_data"
    }
   ],
   "source": [
    "gp.plot('bar')\n",
    "y_pos = np.arange(len(gp))\n",
    "plt.bar(y_pos, gp, color=['blue', 'red', 'blue', 'red', 'blue', 'red'])\n",
    "plt.title(\"Evolution the composition of the congress\")\n",
    "plt.ylabel(\"Number of congressmen\")\n",
    "plt.show()"
   ]
  },
  {
   "cell_type": "markdown",
   "metadata": {},
   "source": [
    "# Part B: Download the Wikipedia pages of politicians"
   ]
  },
  {
   "cell_type": "code",
   "execution_count": 10,
   "metadata": {},
   "outputs": [],
   "source": [
    "import json\n",
    "import urllib\n",
    "import re"
   ]
  },
  {
   "cell_type": "markdown",
   "metadata": {},
   "source": [
    "## 113th congress"
   ]
  },
  {
   "cell_type": "code",
   "execution_count": 9,
   "metadata": {},
   "outputs": [],
   "source": [
    "def is_ascii(s):\n",
    "    return all(ord(c) < 128 for c in s)"
   ]
  },
  {
   "cell_type": "code",
   "execution_count": 35,
   "metadata": {
    "scrolled": false
   },
   "outputs": [],
   "source": [
    "baseurl = \"http://en.wikipedia.org/w/api.php/?\"\n",
    "action = \"action=query\"\n",
    "\n",
    "content = \"prop=revisions\"\n",
    "rvprop =\"rvprop=timestamp|content\"\n",
    "dataformat = \"format=json\"\n",
    "rvdir = \"rvdir=older\"             #sort revisions from newest to oldest\n",
    "start = \"rvend=2000-01-01T00:00:00Z\" #start of my time period\n",
    "end = \"rvstart=2015-01-01T00:00:00Z\" #end of my time period\n",
    "limit = \"rvlimit=1\" #consider only the first revision\n",
    "\n",
    "for key, politician in df_113.groupby('WikiPageName'):\n",
    "    wikiName = politician.iloc[0]['WikiPageName']\n",
    "    # Checks if its ascii to avoid é problems\n",
    "    if is_ascii(wikiName):\n",
    "        title = \"titles=\" + wikiName\n",
    "        query = \"{}{}&{}&{}&{}&{}&{}&{}&{}&{}\".format(baseurl, action, title, content, rvprop, dataformat, rvdir, end, start, limit)\n",
    "        response = urllib.request.urlopen(query)\n",
    "        source = response.read()\n",
    "        jsonObj = json.loads(source)\n",
    "        filePath = \"./politicians/113th/\" + wikiName + \".txt\"\n",
    "        file = open(filePath,\"w+\")\n",
    "        file.write(json.dumps(jsonObj['query']['pages']))\n",
    "        file.close()"
   ]
  },
  {
   "cell_type": "code",
   "execution_count": null,
   "metadata": {},
   "outputs": [],
   "source": []
  },
  {
   "cell_type": "markdown",
   "metadata": {},
   "source": [
    "### 114th congress"
   ]
  },
  {
   "cell_type": "code",
   "execution_count": 69,
   "metadata": {},
   "outputs": [],
   "source": [
    "baseurl = \"http://en.wikipedia.org/w/api.php/?\"\n",
    "action = \"action=query\"\n",
    "\n",
    "content = \"prop=revisions\"\n",
    "rvprop =\"rvprop=timestamp|content\"\n",
    "dataformat = \"format=json\"\n",
    "rvdir = \"rvdir=older\"             #sort revisions from newest to oldest\n",
    "start = \"rvend=2000-01-01T00:00:00Z\" #start of my time period\n",
    "end = \"rvstart=2017-01-01T00:00:00Z\" #end of my time period\n",
    "limit = \"rvlimit=1\" #consider only the first revision\n",
    "\n",
    "for key, politician in df_114.groupby('WikiPageName'):\n",
    "    wikiName = politician.iloc[0]['WikiPageName']\n",
    "    # Checks if its ascii to avoid é problems\n",
    "    if is_ascii(wikiName):\n",
    "        title = \"titles=\" + wikiName\n",
    "        query = \"{}{}&{}&{}&{}&{}&{}&{}&{}&{}\".format(baseurl, action, title, content, rvprop, dataformat, rvdir, end, start, limit)\n",
    "        response = urllib.request.urlopen(query)\n",
    "        source = response.read()\n",
    "        jsonObj = json.loads(source)\n",
    "        filePath = \"./politicians/114th/\" + wikiName + \".txt\"\n",
    "        file = open(filePath,\"w+\")\n",
    "        file.write(json.dumps(jsonObj['query']['pages']))\n",
    "        file.close()"
   ]
  },
  {
   "cell_type": "markdown",
   "metadata": {},
   "source": [
    "### 115th Congress"
   ]
  },
  {
   "cell_type": "code",
   "execution_count": 70,
   "metadata": {},
   "outputs": [],
   "source": [
    "baseurl = \"http://en.wikipedia.org/w/api.php/?\"\n",
    "action = \"action=query\"\n",
    "\n",
    "content = \"prop=revisions\"\n",
    "rvprop =\"rvprop=timestamp|content\"\n",
    "dataformat = \"format=json\"\n",
    "rvdir = \"rvdir=older\"             #sort revisions from newest to oldest\n",
    "start = \"rvend=2000-01-01T00:00:00Z\" #start of my time period\n",
    "end = \"rvstart=2019-01-01T00:00:00Z\" #end of my time period\n",
    "limit = \"rvlimit=1\" #consider only the first revision\n",
    "\n",
    "for key, politician in df_115.groupby('WikiPageName'):\n",
    "    wikiName = politician.iloc[0]['WikiPageName']\n",
    "    # Checks if its ascii to avoid é problems\n",
    "    if is_ascii(wikiName):\n",
    "        title = \"titles=\" + wikiName\n",
    "        query = \"{}{}&{}&{}&{}&{}&{}&{}&{}&{}\".format(baseurl, action, title, content, rvprop, dataformat, rvdir, end, start, limit)\n",
    "        response = urllib.request.urlopen(query)\n",
    "        source = response.read()\n",
    "        jsonObj = json.loads(source)\n",
    "        filePath = \"./politicians/115th/\" + wikiName + \".txt\"\n",
    "        file = open(filePath,\"w+\")\n",
    "        file.write(json.dumps(jsonObj['query']['pages']))\n",
    "        file.close()"
   ]
  },
  {
   "cell_type": "markdown",
   "metadata": {},
   "source": [
    "# Part C: Building the networks"
   ]
  },
  {
   "cell_type": "code",
   "execution_count": 36,
   "metadata": {},
   "outputs": [],
   "source": [
    "import pandas as pd\n",
    "import io\n",
    "import re\n",
    "import collections"
   ]
  },
  {
   "cell_type": "markdown",
   "metadata": {},
   "source": [
    "## 113th congress"
   ]
  },
  {
   "cell_type": "code",
   "execution_count": 19,
   "metadata": {},
   "outputs": [],
   "source": [
    "path_folder = \"./politicians/113th/\""
   ]
  },
  {
   "cell_type": "markdown",
   "metadata": {},
   "source": [
    "### Reformat Names"
   ]
  },
  {
   "cell_type": "code",
   "execution_count": 56,
   "metadata": {},
   "outputs": [],
   "source": [
    "formated_names = []\n",
    "\n",
    "for i in range(0,len(df_113)):\n",
    "    name = df_113.iloc[i].WikiPageName.replace('_',' ')\n",
    "    if is_ascii(name):\n",
    "        formated_names.append(name)"
   ]
  },
  {
   "cell_type": "markdown",
   "metadata": {},
   "source": [
    "### Creating the network"
   ]
  },
  {
   "cell_type": "code",
   "execution_count": 57,
   "metadata": {},
   "outputs": [],
   "source": [
    "G = nx.DiGraph()"
   ]
  },
  {
   "cell_type": "code",
   "execution_count": 58,
   "metadata": {},
   "outputs": [],
   "source": [
    "edges = []\n",
    "valid_links = []\n",
    "\n",
    "for i in range(0,len(df_113)):\n",
    "    member_name = df_113.iloc[i].WikiPageName.replace('_',' ')\n",
    "    member_party = df_113.iloc[i].Party\n",
    "    member_state = df_113.iloc[i].State\n",
    "    \n",
    "    if is_ascii(member_name):\n",
    "        # adding nodes\n",
    "        G.add_node(member_name, State=member_state, Party=member_party)\n",
    "        \n",
    "        # searching for links\n",
    "        f = io.open(path_folder + df_113.iloc[i].WikiPageName + '.txt','r', encoding = 'utf-8').read()\n",
    "        links = re.findall(\"\\[\\[(.*?)\\]\\]\",f)\n",
    "        \n",
    "        # sorting the links\n",
    "        for link in links:\n",
    "            for politician_name in formated_names:\n",
    "                if (politician_name in link) and ('File:' not in link) and ('Image:' not in link):\n",
    "                    valid_links.append(politician_name)\n",
    "                    \n",
    "        # saving links\n",
    "        edges.append(valid_links)\n",
    "        valid_links = []"
   ]
  },
  {
   "cell_type": "code",
   "execution_count": 59,
   "metadata": {},
   "outputs": [
    {
     "name": "stdout",
     "output_type": "stream",
     "text": [
      "Name: \n",
      "Type: DiGraph\n",
      "Number of nodes: 432\n",
      "Number of edges: 0\n",
      "Average in degree:   0.0000\n",
      "Average out degree:   0.0000\n"
     ]
    }
   ],
   "source": [
    "print(nx.info(G))"
   ]
  },
  {
   "cell_type": "code",
   "execution_count": 60,
   "metadata": {},
   "outputs": [],
   "source": [
    "# list(G.nodes)"
   ]
  },
  {
   "cell_type": "code",
   "execution_count": 61,
   "metadata": {},
   "outputs": [],
   "source": [
    "nodes = list(G.nodes)\n",
    "\n",
    "for j in range(0,len(nodes)):\n",
    "    for k in edges[j]:\n",
    "        G.add_edge(nodes[j],k)"
   ]
  },
  {
   "cell_type": "code",
   "execution_count": 62,
   "metadata": {},
   "outputs": [
    {
     "name": "stdout",
     "output_type": "stream",
     "text": [
      "Name: \n",
      "Type: DiGraph\n",
      "Number of nodes: 432\n",
      "Number of edges: 1565\n",
      "Average in degree:   3.6227\n",
      "Average out degree:   3.6227\n"
     ]
    }
   ],
   "source": [
    "print(nx.info(G))"
   ]
  },
  {
   "cell_type": "markdown",
   "metadata": {},
   "source": [
    "<b> What is the number of nodes in the network? And the number of links?\n",
    " </b>"
   ]
  },
  {
   "cell_type": "markdown",
   "metadata": {},
   "source": [
    "There should be as much nodes as there is politicians.\n",
    "\n",
    "And there is 1565 links in my network that does not include politicians with non-ascii names."
   ]
  },
  {
   "cell_type": "markdown",
   "metadata": {},
   "source": [
    "<b> Plot the in and out-degree distributions.\n",
    " </b>"
   ]
  },
  {
   "cell_type": "code",
   "execution_count": 70,
   "metadata": {},
   "outputs": [],
   "source": [
    "# Extracting degrees\n",
    "degrees = []\n",
    "\n",
    "for node in nodes:\n",
    "    degrees.append(G.degree()[node])"
   ]
  },
  {
   "cell_type": "code",
   "execution_count": 71,
   "metadata": {},
   "outputs": [],
   "source": [
    "# Finding extrema\n",
    "max_degree = np.amax(degrees)\n",
    "min_degree = np.amin(degrees)"
   ]
  },
  {
   "cell_type": "code",
   "execution_count": 75,
   "metadata": {
    "scrolled": true
   },
   "outputs": [
    {
     "data": {
      "image/png": "[encoded data removed]",
      "text/plain": [
       "<Figure size 432x288 with 1 Axes>"
      ]
     },
     "metadata": {
      "needs_background": "light"
     },
     "output_type": "display_data"
    }
   ],
   "source": [
    "# Create a vector v with all of the values\n",
    "v = range(min_degree, max_degree+1)\n",
    "\n",
    "hist = np.histogram(degrees, bins=v)\n",
    "\n",
    "# Reducing the arrays to the same size (this time the data is discrete so \n",
    "# we will just cut the last bin out)\n",
    "bins = []\n",
    "heights = []\n",
    "\n",
    "for ii in range(0, len(hist[0])):\n",
    "    bins.append(hist[1][ii])\n",
    "    heights.append(hist[0][ii])\n",
    "    \n",
    "plt.bar(bins, heights)\n",
    "plt.title(\"In & Out Degree Distribution\")\n",
    "plt.ylabel(\"Count\")\n",
    "plt.xlabel(\"Degree\")\n",
    "plt.show()"
   ]
  },
  {
   "cell_type": "markdown",
   "metadata": {},
   "source": [
    "<b> Who is the most connected representative? </b>"
   ]
  },
  {
   "cell_type": "code",
   "execution_count": 86,
   "metadata": {},
   "outputs": [
    {
     "name": "stdout",
     "output_type": "stream",
     "text": [
      "Nancy Pelosi is the most connected politician\n"
     ]
    }
   ],
   "source": [
    "dmax = 0\n",
    "\n",
    "for e in list(G.degree):\n",
    "    if (e[1] > dmax):\n",
    "        dmax = e[1]\n",
    "        most_connected = e[0]\n",
    "        \n",
    "print(most_connected + \" is the most connected politician\")"
   ]
  },
  {
   "cell_type": "code",
   "execution_count": 85,
   "metadata": {},
   "outputs": [
    {
     "name": "stdout",
     "output_type": "stream",
     "text": [
      "['Michele Bachmann', 'Tim Walz', 'Betty McCollum', 'Keith Ellison', 'Collin Peterson', 'Patrick McHenry', 'Lynn Westmoreland', 'John Mica', 'Ted Poe', 'Paul Ryan', 'Eric Cantor', 'Jeb Hensarling', 'John Boehner', 'Steve King', 'John Kline (politician)', 'Louie Gohmert', 'Erik Paulsen', 'Darrell Issa', 'Spencer Bachus', 'Jan Schakowsky', 'Steve Pearce (politician)', 'Gus Bilirakis']\n"
     ]
    }
   ],
   "source": [
    "print(list(G.neighbors(max_out_member)))"
   ]
  },
  {
   "cell_type": "code",
   "execution_count": null,
   "metadata": {},
   "outputs": [],
   "source": []
  }
 ],
 "metadata": {
  "kernelspec": {
   "display_name": "Python 3",
   "language": "python",
   "name": "python3"
  },
  "language_info": {
   "codemirror_mode": {
    "name": "ipython",
    "version": 3
   },
   "file_extension": ".py",
   "mimetype": "text/x-python",
   "name": "python",
   "nbconvert_exporter": "python",
   "pygments_lexer": "ipython3",
   "version": "3.7.3"
  }
 },
 "nbformat": 4,
 "nbformat_minor": 2
}
