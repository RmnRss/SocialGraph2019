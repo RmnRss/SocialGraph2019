{
 "cells": [
  {
   "cell_type": "markdown",
   "metadata": {},
   "source": [
    "# The python exercises\n",
    "\n",
    "**Ex 0**: The Jupyter Notebooks are organized as a list of cells. There are two central kinds of cells, they are called **Code** and **Markdown**. The cell type can be set [using a keyboard shortcut](https://www.dataquest.io/blog/jupyter-notebook-tips-tricks-shortcuts/), or using the menus above.\n",
    "\n",
    "The **Code** cells simply contain the Python code, no big deal.\n",
    "\n",
    "The **Markdown** cells contain text (explanations, sections, etc). The text is written in Markdown. Markdown allows you to write using an easy-to-read, easy-to-write plain text format, then convert it to structurally valid XHTML (or HTML). You can read about it here:\n",
    "\n",
    "http://daringfireball.net/projects/markdown/\n",
    "\n",
    "In the cell below, write a short text that demonstrates that you can\n",
    "* Create a section\n",
    "* Write words in bold and italics\n",
    "* Create lists\n",
    "* Establish a [hyperlink](https://en.wikipedia.org/wiki/Hyperlink)"
   ]
  },
  {
   "cell_type": "markdown",
   "metadata": {},
   "source": [
    "# New Section \n",
    "\n",
    "### Heyyy ###\n",
    "\n",
    "** This is bold **\n",
    "\n",
    "<em> This is italic </em>\n",
    "\n",
    "List of cool stuff\n",
    "* Rad\n",
    "* Cool\n",
    "* Shabam\n",
    "\n",
    "[Doctor Strange Wiki](https://en.wikipedia.org/wiki/Doctor_Strange)\n"
   ]
  },
  {
   "cell_type": "markdown",
   "metadata": {},
   "source": [
    "**Ex 1**: Create a list `a` that contains the numbers from $1$ to $1110$, incremented by one, using the `range` function."
   ]
  },
  {
   "cell_type": "code",
   "execution_count": 2,
   "metadata": {},
   "outputs": [
    {
     "name": "stdout",
     "output_type": "stream",
     "text": [
      "[1, 2, 3, 4, 5, 6, 7, 8, 9, 10, 11, 12, 13, 14, 15, 16, 17, 18, 19, 20, 21, 22, 23, 24, 25, 26, 27, 28, 29, 30, 31, 32, 33, 34, 35, 36, 37, 38, 39, 40, 41, 42, 43, 44, 45, 46, 47, 48, 49, 50, 51, 52, 53, 54, 55, 56, 57, 58, 59, 60, 61, 62, 63, 64, 65, 66, 67, 68, 69, 70, 71, 72, 73, 74, 75, 76, 77, 78, 79, 80, 81, 82, 83, 84, 85, 86, 87, 88, 89, 90, 91, 92, 93, 94, 95, 96, 97, 98, 99, 100, 101, 102, 103, 104, 105, 106, 107, 108, 109, 110, 111, 112, 113, 114, 115, 116, 117, 118, 119, 120, 121, 122, 123, 124, 125, 126, 127, 128, 129, 130, 131, 132, 133, 134, 135, 136, 137, 138, 139, 140, 141, 142, 143, 144, 145, 146, 147, 148, 149, 150, 151, 152, 153, 154, 155, 156, 157, 158, 159, 160, 161, 162, 163, 164, 165, 166, 167, 168, 169, 170, 171, 172, 173, 174, 175, 176, 177, 178, 179, 180, 181, 182, 183, 184, 185, 186, 187, 188, 189, 190, 191, 192, 193, 194, 195, 196, 197, 198, 199, 200, 201, 202, 203, 204, 205, 206, 207, 208, 209, 210, 211, 212, 213, 214, 215, 216, 217, 218, 219, 220, 221, 222, 223, 224, 225, 226, 227, 228, 229, 230, 231, 232, 233, 234, 235, 236, 237, 238, 239, 240, 241, 242, 243, 244, 245, 246, 247, 248, 249, 250, 251, 252, 253, 254, 255, 256, 257, 258, 259, 260, 261, 262, 263, 264, 265, 266, 267, 268, 269, 270, 271, 272, 273, 274, 275, 276, 277, 278, 279, 280, 281, 282, 283, 284, 285, 286, 287, 288, 289, 290, 291, 292, 293, 294, 295, 296, 297, 298, 299, 300, 301, 302, 303, 304, 305, 306, 307, 308, 309, 310, 311, 312, 313, 314, 315, 316, 317, 318, 319, 320, 321, 322, 323, 324, 325, 326, 327, 328, 329, 330, 331, 332, 333, 334, 335, 336, 337, 338, 339, 340, 341, 342, 343, 344, 345, 346, 347, 348, 349, 350, 351, 352, 353, 354, 355, 356, 357, 358, 359, 360, 361, 362, 363, 364, 365, 366, 367, 368, 369, 370, 371, 372, 373, 374, 375, 376, 377, 378, 379, 380, 381, 382, 383, 384, 385, 386, 387, 388, 389, 390, 391, 392, 393, 394, 395, 396, 397, 398, 399, 400, 401, 402, 403, 404, 405, 406, 407, 408, 409, 410, 411, 412, 413, 414, 415, 416, 417, 418, 419, 420, 421, 422, 423, 424, 425, 426, 427, 428, 429, 430, 431, 432, 433, 434, 435, 436, 437, 438, 439, 440, 441, 442, 443, 444, 445, 446, 447, 448, 449, 450, 451, 452, 453, 454, 455, 456, 457, 458, 459, 460, 461, 462, 463, 464, 465, 466, 467, 468, 469, 470, 471, 472, 473, 474, 475, 476, 477, 478, 479, 480, 481, 482, 483, 484, 485, 486, 487, 488, 489, 490, 491, 492, 493, 494, 495, 496, 497, 498, 499, 500, 501, 502, 503, 504, 505, 506, 507, 508, 509, 510, 511, 512, 513, 514, 515, 516, 517, 518, 519, 520, 521, 522, 523, 524, 525, 526, 527, 528, 529, 530, 531, 532, 533, 534, 535, 536, 537, 538, 539, 540, 541, 542, 543, 544, 545, 546, 547, 548, 549, 550, 551, 552, 553, 554, 555, 556, 557, 558, 559, 560, 561, 562, 563, 564, 565, 566, 567, 568, 569, 570, 571, 572, 573, 574, 575, 576, 577, 578, 579, 580, 581, 582, 583, 584, 585, 586, 587, 588, 589, 590, 591, 592, 593, 594, 595, 596, 597, 598, 599, 600, 601, 602, 603, 604, 605, 606, 607, 608, 609, 610, 611, 612, 613, 614, 615, 616, 617, 618, 619, 620, 621, 622, 623, 624, 625, 626, 627, 628, 629, 630, 631, 632, 633, 634, 635, 636, 637, 638, 639, 640, 641, 642, 643, 644, 645, 646, 647, 648, 649, 650, 651, 652, 653, 654, 655, 656, 657, 658, 659, 660, 661, 662, 663, 664, 665, 666, 667, 668, 669, 670, 671, 672, 673, 674, 675, 676, 677, 678, 679, 680, 681, 682, 683, 684, 685, 686, 687, 688, 689, 690, 691, 692, 693, 694, 695, 696, 697, 698, 699, 700, 701, 702, 703, 704, 705, 706, 707, 708, 709, 710, 711, 712, 713, 714, 715, 716, 717, 718, 719, 720, 721, 722, 723, 724, 725, 726, 727, 728, 729, 730, 731, 732, 733, 734, 735, 736, 737, 738, 739, 740, 741, 742, 743, 744, 745, 746, 747, 748, 749, 750, 751, 752, 753, 754, 755, 756, 757, 758, 759, 760, 761, 762, 763, 764, 765, 766, 767, 768, 769, 770, 771, 772, 773, 774, 775, 776, 777, 778, 779, 780, 781, 782, 783, 784, 785, 786, 787, 788, 789, 790, 791, 792, 793, 794, 795, 796, 797, 798, 799, 800, 801, 802, 803, 804, 805, 806, 807, 808, 809, 810, 811, 812, 813, 814, 815, 816, 817, 818, 819, 820, 821, 822, 823, 824, 825, 826, 827, 828, 829, 830, 831, 832, 833, 834, 835, 836, 837, 838, 839, 840, 841, 842, 843, 844, 845, 846, 847, 848, 849, 850, 851, 852, 853, 854, 855, 856, 857, 858, 859, 860, 861, 862, 863, 864, 865, 866, 867, 868, 869, 870, 871, 872, 873, 874, 875, 876, 877, 878, 879, 880, 881, 882, 883, 884, 885, 886, 887, 888, 889, 890, 891, 892, 893, 894, 895, 896, 897, 898, 899, 900, 901, 902, 903, 904, 905, 906, 907, 908, 909, 910, 911, 912, 913, 914, 915, 916, 917, 918, 919, 920, 921, 922, 923, 924, 925, 926, 927, 928, 929, 930, 931, 932, 933, 934, 935, 936, 937, 938, 939, 940, 941, 942, 943, 944, 945, 946, 947, 948, 949, 950, 951, 952, 953, 954, 955, 956, 957, 958, 959, 960, 961, 962, 963, 964, 965, 966, 967, 968, 969, 970, 971, 972, 973, 974, 975, 976, 977, 978, 979, 980, 981, 982, 983, 984, 985, 986, 987, 988, 989, 990, 991, 992, 993, 994, 995, 996, 997, 998, 999, 1000, 1001, 1002, 1003, 1004, 1005, 1006, 1007, 1008, 1009, 1010, 1011, 1012, 1013, 1014, 1015, 1016, 1017, 1018, 1019, 1020, 1021, 1022, 1023, 1024, 1025, 1026, 1027, 1028, 1029, 1030, 1031, 1032, 1033, 1034, 1035, 1036, 1037, 1038, 1039, 1040, 1041, 1042, 1043, 1044, 1045, 1046, 1047, 1048, 1049, 1050, 1051, 1052, 1053, 1054, 1055, 1056, 1057, 1058, 1059, 1060, 1061, 1062, 1063, 1064, 1065, 1066, 1067, 1068, 1069, 1070, 1071, 1072, 1073, 1074, 1075, 1076, 1077, 1078, 1079, 1080, 1081, 1082, 1083, 1084, 1085, 1086, 1087, 1088, 1089, 1090, 1091, 1092, 1093, 1094, 1095, 1096, 1097, 1098, 1099, 1100, 1101, 1102, 1103, 1104, 1105, 1106, 1107, 1108, 1109, 1110]\n"
     ]
    }
   ],
   "source": [
    "a = []\n",
    "for i in range(1,1111):\n",
    "    a.append(i)\n",
    "\n",
    "print(a)\n",
    "    "
   ]
  },
  {
   "cell_type": "markdown",
   "metadata": {},
   "source": [
    "**Ex 2**: Show that you understand [slicing](http://stackoverflow.com/questions/509211/explain-pythons-slice-notation) in Python by extracting a list `b` with the numbers from $543$ to $779$ from the list created above."
   ]
  },
  {
   "cell_type": "code",
   "execution_count": 3,
   "metadata": {},
   "outputs": [
    {
     "name": "stdout",
     "output_type": "stream",
     "text": [
      "[543, 544, 545, 546, 547, 548, 549, 550, 551, 552, 553, 554, 555, 556, 557, 558, 559, 560, 561, 562, 563, 564, 565, 566, 567, 568, 569, 570, 571, 572, 573, 574, 575, 576, 577, 578, 579, 580, 581, 582, 583, 584, 585, 586, 587, 588, 589, 590, 591, 592, 593, 594, 595, 596, 597, 598, 599, 600, 601, 602, 603, 604, 605, 606, 607, 608, 609, 610, 611, 612, 613, 614, 615, 616, 617, 618, 619, 620, 621, 622, 623, 624, 625, 626, 627, 628, 629, 630, 631, 632, 633, 634, 635, 636, 637, 638, 639, 640, 641, 642, 643, 644, 645, 646, 647, 648, 649, 650, 651, 652, 653, 654, 655, 656, 657, 658, 659, 660, 661, 662, 663, 664, 665, 666, 667, 668, 669, 670, 671, 672, 673, 674, 675, 676, 677, 678, 679, 680, 681, 682, 683, 684, 685, 686, 687, 688, 689, 690, 691, 692, 693, 694, 695, 696, 697, 698, 699, 700, 701, 702, 703, 704, 705, 706, 707, 708, 709, 710, 711, 712, 713, 714, 715, 716, 717, 718, 719, 720, 721, 722, 723, 724, 725, 726, 727, 728, 729, 730, 731, 732, 733, 734, 735, 736, 737, 738, 739, 740, 741, 742, 743, 744, 745, 746, 747, 748, 749, 750, 751, 752, 753, 754, 755, 756, 757, 758, 759, 760, 761, 762, 763, 764, 765, 766, 767, 768, 769, 770, 771, 772, 773, 774, 775, 776, 777, 778, 779]\n"
     ]
    }
   ],
   "source": [
    "# listToSlice[startIndex:endIndex]\n",
    "\n",
    "b = a[542:779]\n",
    "print(b)"
   ]
  },
  {
   "cell_type": "markdown",
   "metadata": {},
   "source": [
    "**Ex 3**: Using `def`, define a function that takes as input a number $x$ and outputs the number multiplied by itself plus three $f(x) = x(x+3)$. "
   ]
  },
  {
   "cell_type": "code",
   "execution_count": 4,
   "metadata": {},
   "outputs": [
    {
     "name": "stdout",
     "output_type": "stream",
     "text": [
      "18\n"
     ]
    }
   ],
   "source": [
    "def aFunction(x):\n",
    "    return x*(x+3)\n",
    "\n",
    "print(aFunction(3))"
   ]
  },
  {
   "cell_type": "markdown",
   "metadata": {},
   "source": [
    "**Ex 4**: Apply this function to every element of the list `b` using a `for` loop. "
   ]
  },
  {
   "cell_type": "code",
   "execution_count": 5,
   "metadata": {},
   "outputs": [
    {
     "name": "stdout",
     "output_type": "stream",
     "text": [
      "296478\n",
      "297568\n",
      "298660\n",
      "299754\n",
      "300850\n",
      "301948\n",
      "303048\n",
      "304150\n",
      "305254\n",
      "306360\n",
      "307468\n",
      "308578\n",
      "309690\n",
      "310804\n",
      "311920\n",
      "313038\n",
      "314158\n",
      "315280\n",
      "316404\n",
      "317530\n",
      "318658\n",
      "319788\n",
      "320920\n",
      "322054\n",
      "323190\n",
      "324328\n",
      "325468\n",
      "326610\n",
      "327754\n",
      "328900\n",
      "330048\n",
      "331198\n",
      "332350\n",
      "333504\n",
      "334660\n",
      "335818\n",
      "336978\n",
      "338140\n",
      "339304\n",
      "340470\n",
      "341638\n",
      "342808\n",
      "343980\n",
      "345154\n",
      "346330\n",
      "347508\n",
      "348688\n",
      "349870\n",
      "351054\n",
      "352240\n",
      "353428\n",
      "354618\n",
      "355810\n",
      "357004\n",
      "358200\n",
      "359398\n",
      "360598\n",
      "361800\n",
      "363004\n",
      "364210\n",
      "365418\n",
      "366628\n",
      "367840\n",
      "369054\n",
      "370270\n",
      "371488\n",
      "372708\n",
      "373930\n",
      "375154\n",
      "376380\n",
      "377608\n",
      "378838\n",
      "380070\n",
      "381304\n",
      "382540\n",
      "383778\n",
      "385018\n",
      "386260\n",
      "387504\n",
      "388750\n",
      "389998\n",
      "391248\n",
      "392500\n",
      "393754\n",
      "395010\n",
      "396268\n",
      "397528\n",
      "398790\n",
      "400054\n",
      "401320\n",
      "402588\n",
      "403858\n",
      "405130\n",
      "406404\n",
      "407680\n",
      "408958\n",
      "410238\n",
      "411520\n",
      "412804\n",
      "414090\n",
      "415378\n",
      "416668\n",
      "417960\n",
      "419254\n",
      "420550\n",
      "421848\n",
      "423148\n",
      "424450\n",
      "425754\n",
      "427060\n",
      "428368\n",
      "429678\n",
      "430990\n",
      "432304\n",
      "433620\n",
      "434938\n",
      "436258\n",
      "437580\n",
      "438904\n",
      "440230\n",
      "441558\n",
      "442888\n",
      "444220\n",
      "445554\n",
      "446890\n",
      "448228\n",
      "449568\n",
      "450910\n",
      "452254\n",
      "453600\n",
      "454948\n",
      "456298\n",
      "457650\n",
      "459004\n",
      "460360\n",
      "461718\n",
      "463078\n",
      "464440\n",
      "465804\n",
      "467170\n",
      "468538\n",
      "469908\n",
      "471280\n",
      "472654\n",
      "474030\n",
      "475408\n",
      "476788\n",
      "478170\n",
      "479554\n",
      "480940\n",
      "482328\n",
      "483718\n",
      "485110\n",
      "486504\n",
      "487900\n",
      "489298\n",
      "490698\n",
      "492100\n",
      "493504\n",
      "494910\n",
      "496318\n",
      "497728\n",
      "499140\n",
      "500554\n",
      "501970\n",
      "503388\n",
      "504808\n",
      "506230\n",
      "507654\n",
      "509080\n",
      "510508\n",
      "511938\n",
      "513370\n",
      "514804\n",
      "516240\n",
      "517678\n",
      "519118\n",
      "520560\n",
      "522004\n",
      "523450\n",
      "524898\n",
      "526348\n",
      "527800\n",
      "529254\n",
      "530710\n",
      "532168\n",
      "533628\n",
      "535090\n",
      "536554\n",
      "538020\n",
      "539488\n",
      "540958\n",
      "542430\n",
      "543904\n",
      "545380\n",
      "546858\n",
      "548338\n",
      "549820\n",
      "551304\n",
      "552790\n",
      "554278\n",
      "555768\n",
      "557260\n",
      "558754\n",
      "560250\n",
      "561748\n",
      "563248\n",
      "564750\n",
      "566254\n",
      "567760\n",
      "569268\n",
      "570778\n",
      "572290\n",
      "573804\n",
      "575320\n",
      "576838\n",
      "578358\n",
      "579880\n",
      "581404\n",
      "582930\n",
      "584458\n",
      "585988\n",
      "587520\n",
      "589054\n",
      "590590\n",
      "592128\n",
      "593668\n",
      "595210\n",
      "596754\n",
      "598300\n",
      "599848\n",
      "601398\n",
      "602950\n",
      "604504\n",
      "606060\n",
      "607618\n",
      "609178\n"
     ]
    }
   ],
   "source": [
    "for i in range(0,len(b)):\n",
    "    print(aFunction(b[i]))\n",
    "    \n",
    "    "
   ]
  },
  {
   "cell_type": "markdown",
   "metadata": {},
   "source": [
    "**Ex 5**: Do the same thing using a list comprehension."
   ]
  },
  {
   "cell_type": "code",
   "execution_count": 6,
   "metadata": {},
   "outputs": [
    {
     "name": "stdout",
     "output_type": "stream",
     "text": [
      "296478\n",
      "297568\n",
      "298660\n",
      "299754\n",
      "300850\n",
      "301948\n",
      "303048\n",
      "304150\n",
      "305254\n",
      "306360\n",
      "307468\n",
      "308578\n",
      "309690\n",
      "310804\n",
      "311920\n",
      "313038\n",
      "314158\n",
      "315280\n",
      "316404\n",
      "317530\n",
      "318658\n",
      "319788\n",
      "320920\n",
      "322054\n",
      "323190\n",
      "324328\n",
      "325468\n",
      "326610\n",
      "327754\n",
      "328900\n",
      "330048\n",
      "331198\n",
      "332350\n",
      "333504\n",
      "334660\n",
      "335818\n",
      "336978\n",
      "338140\n",
      "339304\n",
      "340470\n",
      "341638\n",
      "342808\n",
      "343980\n",
      "345154\n",
      "346330\n",
      "347508\n",
      "348688\n",
      "349870\n",
      "351054\n",
      "352240\n",
      "353428\n",
      "354618\n",
      "355810\n",
      "357004\n",
      "358200\n",
      "359398\n",
      "360598\n",
      "361800\n",
      "363004\n",
      "364210\n",
      "365418\n",
      "366628\n",
      "367840\n",
      "369054\n",
      "370270\n",
      "371488\n",
      "372708\n",
      "373930\n",
      "375154\n",
      "376380\n",
      "377608\n",
      "378838\n",
      "380070\n",
      "381304\n",
      "382540\n",
      "383778\n",
      "385018\n",
      "386260\n",
      "387504\n",
      "388750\n",
      "389998\n",
      "391248\n",
      "392500\n",
      "393754\n",
      "395010\n",
      "396268\n",
      "397528\n",
      "398790\n",
      "400054\n",
      "401320\n",
      "402588\n",
      "403858\n",
      "405130\n",
      "406404\n",
      "407680\n",
      "408958\n",
      "410238\n",
      "411520\n",
      "412804\n",
      "414090\n",
      "415378\n",
      "416668\n",
      "417960\n",
      "419254\n",
      "420550\n",
      "421848\n",
      "423148\n",
      "424450\n",
      "425754\n",
      "427060\n",
      "428368\n",
      "429678\n",
      "430990\n",
      "432304\n",
      "433620\n",
      "434938\n",
      "436258\n",
      "437580\n",
      "438904\n",
      "440230\n",
      "441558\n",
      "442888\n",
      "444220\n",
      "445554\n",
      "446890\n",
      "448228\n",
      "449568\n",
      "450910\n",
      "452254\n",
      "453600\n",
      "454948\n",
      "456298\n",
      "457650\n",
      "459004\n",
      "460360\n",
      "461718\n",
      "463078\n",
      "464440\n",
      "465804\n",
      "467170\n",
      "468538\n",
      "469908\n",
      "471280\n",
      "472654\n",
      "474030\n",
      "475408\n",
      "476788\n",
      "478170\n",
      "479554\n",
      "480940\n",
      "482328\n",
      "483718\n",
      "485110\n",
      "486504\n",
      "487900\n",
      "489298\n",
      "490698\n",
      "492100\n",
      "493504\n",
      "494910\n",
      "496318\n",
      "497728\n",
      "499140\n",
      "500554\n",
      "501970\n",
      "503388\n",
      "504808\n",
      "506230\n",
      "507654\n",
      "509080\n",
      "510508\n",
      "511938\n",
      "513370\n",
      "514804\n",
      "516240\n",
      "517678\n",
      "519118\n",
      "520560\n",
      "522004\n",
      "523450\n",
      "524898\n",
      "526348\n",
      "527800\n",
      "529254\n",
      "530710\n",
      "532168\n",
      "533628\n",
      "535090\n",
      "536554\n",
      "538020\n",
      "539488\n",
      "540958\n",
      "542430\n",
      "543904\n",
      "545380\n",
      "546858\n",
      "548338\n",
      "549820\n",
      "551304\n",
      "552790\n",
      "554278\n",
      "555768\n",
      "557260\n",
      "558754\n",
      "560250\n",
      "561748\n",
      "563248\n",
      "564750\n",
      "566254\n",
      "567760\n",
      "569268\n",
      "570778\n",
      "572290\n",
      "573804\n",
      "575320\n",
      "576838\n",
      "578358\n",
      "579880\n",
      "581404\n",
      "582930\n",
      "584458\n",
      "585988\n",
      "587520\n",
      "589054\n",
      "590590\n",
      "592128\n",
      "593668\n",
      "595210\n",
      "596754\n",
      "598300\n",
      "599848\n",
      "601398\n",
      "602950\n",
      "604504\n",
      "606060\n",
      "607618\n",
      "609178\n"
     ]
    }
   ],
   "source": [
    "for number in b:\n",
    "    print(aFunction(number))"
   ]
  },
  {
   "cell_type": "markdown",
   "metadata": {},
   "source": [
    "**Ex 6**: Write the output of your function to a text file with one number per line."
   ]
  },
  {
   "cell_type": "code",
   "execution_count": 7,
   "metadata": {},
   "outputs": [
    {
     "data": {
      "text/plain": [
       "'296478\\n297568\\n298660\\n299754\\n300850\\n301948\\n303048\\n304150\\n305254\\n306360\\n307468\\n308578\\n309690\\n310804\\n311920\\n313038\\n314158\\n315280\\n316404\\n317530\\n318658\\n319788\\n320920\\n322054\\n323190\\n324328\\n325468\\n326610\\n327754\\n328900\\n330048\\n331198\\n332350\\n333504\\n334660\\n335818\\n336978\\n338140\\n339304\\n340470\\n341638\\n342808\\n343980\\n345154\\n346330\\n347508\\n348688\\n349870\\n351054\\n352240\\n353428\\n354618\\n355810\\n357004\\n358200\\n359398\\n360598\\n361800\\n363004\\n364210\\n365418\\n366628\\n367840\\n369054\\n370270\\n371488\\n372708\\n373930\\n375154\\n376380\\n377608\\n378838\\n380070\\n381304\\n382540\\n383778\\n385018\\n386260\\n387504\\n388750\\n389998\\n391248\\n392500\\n393754\\n395010\\n396268\\n397528\\n398790\\n400054\\n401320\\n402588\\n403858\\n405130\\n406404\\n407680\\n408958\\n410238\\n411520\\n412804\\n414090\\n415378\\n416668\\n417960\\n419254\\n420550\\n421848\\n423148\\n424450\\n425754\\n427060\\n428368\\n429678\\n430990\\n432304\\n433620\\n434938\\n436258\\n437580\\n438904\\n440230\\n441558\\n442888\\n444220\\n445554\\n446890\\n448228\\n449568\\n450910\\n452254\\n453600\\n454948\\n456298\\n457650\\n459004\\n460360\\n461718\\n463078\\n464440\\n465804\\n467170\\n468538\\n469908\\n471280\\n472654\\n474030\\n475408\\n476788\\n478170\\n479554\\n480940\\n482328\\n483718\\n485110\\n486504\\n487900\\n489298\\n490698\\n492100\\n493504\\n494910\\n496318\\n497728\\n499140\\n500554\\n501970\\n503388\\n504808\\n506230\\n507654\\n509080\\n510508\\n511938\\n513370\\n514804\\n516240\\n517678\\n519118\\n520560\\n522004\\n523450\\n524898\\n526348\\n527800\\n529254\\n530710\\n532168\\n533628\\n535090\\n536554\\n538020\\n539488\\n540958\\n542430\\n543904\\n545380\\n546858\\n548338\\n549820\\n551304\\n552790\\n554278\\n555768\\n557260\\n558754\\n560250\\n561748\\n563248\\n564750\\n566254\\n567760\\n569268\\n570778\\n572290\\n573804\\n575320\\n576838\\n578358\\n579880\\n581404\\n582930\\n584458\\n585988\\n587520\\n589054\\n590590\\n592128\\n593668\\n595210\\n596754\\n598300\\n599848\\n601398\\n602950\\n604504\\n606060\\n607618\\n609178\\n'"
      ]
     },
     "execution_count": 7,
     "metadata": {},
     "output_type": "execute_result"
    }
   ],
   "source": [
    "fileName = 'numbers'\n",
    "path = '/Users/RmnRs/Desktop/SGI/numbers.txt'\n",
    "number_file = open(path,'w')\n",
    "\n",
    "for number in b:\n",
    "    number_file.write(str(aFunction(number)) + '\\n')\n",
    "\n",
    "number_file = open(path,'r')\n",
    "number_file.read()"
   ]
  },
  {
   "cell_type": "code",
   "execution_count": null,
   "metadata": {},
   "outputs": [],
   "source": [
    "number_file.close()"
   ]
  },
  {
   "cell_type": "markdown",
   "metadata": {},
   "source": [
    "**Ex 7**: Show that you know about strings using this example from https://learnpythonthehardway.org/python3/ex6.html (code reproduced below).\n",
    "\n",
    "1. Go through the code below and write a code comment above each line explaining it.\n",
    "1. Find all the places where a string is put inside a string. There are four places.\n",
    "1. Are you sure there are only four places? How do you know? Maybe I like lying.\n",
    "1. Explain why adding the two strings w and e with + makes a longer string.\n",
    "\n",
    "\n",
    "[**Hint**: If you feel this is too complex, try completing the prior learningthehardway exercises first. Start [here](https://learnpythonthehardway.org/python3/ex1.html). "
   ]
  },
  {
   "cell_type": "code",
   "execution_count": 8,
   "metadata": {},
   "outputs": [
    {
     "name": "stdout",
     "output_type": "stream",
     "text": [
      "There are 10 types of people.\n"
     ]
    }
   ],
   "source": [
    "x = \"There are {!a} types of people.\".format(10)\n",
    "print(x)"
   ]
  },
  {
   "cell_type": "code",
   "execution_count": 9,
   "metadata": {},
   "outputs": [
    {
     "name": "stdout",
     "output_type": "stream",
     "text": [
      "There are 10 types of people.\n",
      "Those who know binary and those who don't.\n",
      "I said: 'There are 10 types of people.'\n",
      "I also said: 'Those who know binary and those who don't.'\n",
      "Isn't that joke so funny?! False\n",
      "This is the left side of...a string with a right side.\n"
     ]
    }
   ],
   "source": [
    "# Note from Sune: In Python, code comments follow the \"#\" character\n",
    "\n",
    "# Declaring variables\n",
    "# format(x) replace content between braces by x or its content if it is a variable\n",
    "\n",
    "x = \"There are {!a} types of people.\".format(10)\n",
    "binary = \"binary\"\n",
    "do_not = \"don't\"\n",
    "y = f\"Those who know {binary} and those who {do_not}.\"\n",
    "\n",
    "print(x)\n",
    "print(y)\n",
    "\n",
    "\n",
    "print(f\"I said: {x!r}\")\n",
    "print(f\"I also said: '{y}'\")\n",
    "\n",
    "hilarious = False\n",
    "joke_evaluation = \"Isn't that joke so funny?! {}\"\n",
    "\n",
    "print(joke_evaluation.format(hilarious))\n",
    "\n",
    "# Concatening string using the + operator\n",
    "w = \"This is the left side of...\"\n",
    "e = \"a string with a right side.\"\n",
    "\n",
    "print(w + e)"
   ]
  },
  {
   "cell_type": "markdown",
   "metadata": {},
   "source": [
    "*[Write the answer to **Ex 7**, 2-4 here]*"
   ]
  },
  {
   "cell_type": "markdown",
   "metadata": {},
   "source": [
    "**Ex 8**: First, learn about JSON by reading the **[wikipedia page](https://en.wikipedia.org/wiki/JSON)**. Then answer the following two questions in the cell below. \n",
    "\n",
    "* What is `json`? What do the letters stand for?\n",
    "* Why is `json` superior to `xml`? (... or why not?)"
   ]
  },
  {
   "cell_type": "markdown",
   "metadata": {},
   "source": [
    "JavaScript Object Notation (JSON)\n",
    "\n",
    "Lighter. Easier to read and parse."
   ]
  },
  {
   "cell_type": "markdown",
   "metadata": {},
   "source": [
    "**Ex 9a**: Use the `json` module (instructions on usage here: https://docs.python.org/3/library/json.html). \n",
    "\n",
    "First use [`urllib.request`](https://docs.python.org/3/library/urllib.request.html#module-urllib.request) (see also https://stackoverflow.com/questions/7243750/download-file-from-web-in-python-3), or another Python library, to download **[this file](https://raw.githubusercontent.com/suneman/socialgraphs2019/master/files/test.json)**. \n",
    "\n",
    "The downloaded file is a string when you first download it, but you can use the `json` library to \"load\" the string and decode it to a Python object, using `json.loads()`. (The decoded string is a python object, a list with a single element, a dictionary (with nested dictionaries inside it))."
   ]
  },
  {
   "cell_type": "code",
   "execution_count": 10,
   "metadata": {},
   "outputs": [],
   "source": [
    "import urllib\n",
    "\n",
    "url = 'https://raw.githubusercontent.com/suneman/socialgraphs2019/master/files/test.json'\n",
    "response = urllib.request.urlopen(url)\n",
    "data = response.read()\n",
    "# text = data.decode('utf-8')\n",
    "\n",
    "import json\n",
    "jsonFile = json.loads(data)\n"
   ]
  },
  {
   "cell_type": "markdown",
   "metadata": {},
   "source": [
    "**Ex 9b**: Now, let's take a look at the file you downloaded. First, just write the name of the variable that contains the decoded file content and hit enter to take a look at it. It's  the list of Twitter Trending topics, a few days ago."
   ]
  },
  {
   "cell_type": "code",
   "execution_count": 11,
   "metadata": {},
   "outputs": [
    {
     "data": {
      "text/plain": [
       "[{'created_at': '2015-08-24T08:32:44Z',\n",
       "  'trends': [{'url': 'http://twitter.com/search?q=%23rfcvff',\n",
       "    'query': '%23rfcvff',\n",
       "    'name': '#rfcvff',\n",
       "    'promoted_content': None},\n",
       "   {'url': 'http://twitter.com/search?q=%23EFBFCM',\n",
       "    'query': '%23EFBFCM',\n",
       "    'name': '#EFBFCM',\n",
       "    'promoted_content': None},\n",
       "   {'url': 'http://twitter.com/search?q=%23bifsje',\n",
       "    'query': '%23bifsje',\n",
       "    'name': '#bifsje',\n",
       "    'promoted_content': None},\n",
       "   {'url': 'http://twitter.com/search?q=nordstrand',\n",
       "    'query': 'nordstrand',\n",
       "    'name': 'nordstrand',\n",
       "    'promoted_content': None},\n",
       "   {'url': 'http://twitter.com/search?q=%23WhyILoveLiam',\n",
       "    'query': '%23WhyILoveLiam',\n",
       "    'name': '#WhyILoveLiam',\n",
       "    'promoted_content': None},\n",
       "   {'url': 'http://twitter.com/search?q=%23lv2015',\n",
       "    'query': '%23lv2015',\n",
       "    'name': '#lv2015',\n",
       "    'promoted_content': None},\n",
       "   {'url': 'http://twitter.com/search?q=%22Harald+Nielsen%22',\n",
       "    'query': '%22Harald+Nielsen%22',\n",
       "    'name': 'Harald Nielsen',\n",
       "    'promoted_content': None},\n",
       "   {'url': 'http://twitter.com/search?q=Fnatic',\n",
       "    'query': 'Fnatic',\n",
       "    'name': 'Fnatic',\n",
       "    'promoted_content': None},\n",
       "   {'url': 'http://twitter.com/search?q=Nash',\n",
       "    'query': 'Nash',\n",
       "    'name': 'Nash',\n",
       "    'promoted_content': None},\n",
       "   {'url': 'http://twitter.com/search?q=kjeldsen',\n",
       "    'query': 'kjeldsen',\n",
       "    'name': 'kjeldsen',\n",
       "    'promoted_content': None}],\n",
       "  'as_of': '2015-08-24T08:36:54Z',\n",
       "  'locations': [{'woeid': 23424796, 'name': 'Denmark'}]}]"
      ]
     },
     "execution_count": 11,
     "metadata": {},
     "output_type": "execute_result"
    }
   ],
   "source": [
    "jsonFile"
   ]
  },
  {
   "cell_type": "markdown",
   "metadata": {},
   "source": [
    "**Ex 9c**: The thing you've just decoded is now a list of length 1. What are the names of the keys organizing the dictionary at position 0 in the list? (Just write the code to produce the answer.) \n",
    "\n",
    "**Hint** use the `.keys()` method to easily get the keys of any dictionary."
   ]
  },
  {
   "cell_type": "code",
   "execution_count": 12,
   "metadata": {},
   "outputs": [
    {
     "data": {
      "text/plain": [
       "dict_keys(['created_at', 'trends', 'as_of', 'locations'])"
      ]
     },
     "execution_count": 12,
     "metadata": {},
     "output_type": "execute_result"
    }
   ],
   "source": [
    "jsonFile[0].keys()"
   ]
  },
  {
   "cell_type": "markdown",
   "metadata": {},
   "source": [
    "**Ex 9d**: Two small questions \n",
    "* What time did I create the list of Trending Topics?\n",
    "* Print the names of the trending topics (bonus for using a list comprehension)\n",
    "\n",
    "(Just write the code to produce the answer.)"
   ]
  },
  {
   "cell_type": "code",
   "execution_count": 40,
   "metadata": {},
   "outputs": [
    {
     "name": "stdout",
     "output_type": "stream",
     "text": [
      "File was created on : 2015-08-24 08:32:44+00:00\n",
      "Trends were : \n",
      "#rfcvff\n",
      "#EFBFCM\n",
      "#bifsje\n",
      "nordstrand\n",
      "#WhyILoveLiam\n",
      "#lv2015\n",
      "Harald Nielsen\n",
      "Fnatic\n",
      "Nash\n",
      "kjeldsen\n"
     ]
    }
   ],
   "source": [
    "import dateutil.parser\n",
    "\n",
    "# To get the time of creation\n",
    "\n",
    "dateStr = jsonFile[0].get('created_at')\n",
    "\n",
    "dateObj = dateutil.parser.parse(dateStr)\n",
    "\n",
    "print(\"File was created on : \" + str(dateObj))\n",
    "\n",
    "print(\"Trends were : \")\n",
    "\n",
    "for trend in jsonFile[0].get('trends'):\n",
    "    print(trend.get('name'))\n",
    "    "
   ]
  },
  {
   "cell_type": "markdown",
   "metadata": {},
   "source": [
    "**Ex 9e**: One more small question\n",
    "* What's going on with all of the `%22` and `%23`? Go on-line and figure it out. Write the answer in your own words. (Hint: It has to do with HTML URL encoding)"
   ]
  },
  {
   "cell_type": "markdown",
   "metadata": {},
   "source": [
    "*[Write your answer to **Ex 9e** here]*"
   ]
  },
  {
   "cell_type": "markdown",
   "metadata": {
    "collapsed": true
   },
   "source": [
    "In URL encoding **%22** stands for **\"** and **%23** stands for **#**. Those tricks are used because URL are made of a limited set of character to be certain they are safe and understandable by any computer. So the encoding is just a way and having symbols that are not part of that limited set of character. "
   ]
  }
 ],
 "metadata": {
  "anaconda-cloud": {},
  "kernelspec": {
   "display_name": "Python 3",
   "language": "python",
   "name": "python3"
  },
  "language_info": {
   "codemirror_mode": {
    "name": "ipython",
    "version": 3
   },
   "file_extension": ".py",
   "mimetype": "text/x-python",
   "name": "python",
   "nbconvert_exporter": "python",
   "pygments_lexer": "ipython3",
   "version": "3.7.3"
  }
 },
 "nbformat": 4,
 "nbformat_minor": 1
}
